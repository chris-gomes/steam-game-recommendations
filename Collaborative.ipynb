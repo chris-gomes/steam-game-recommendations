{
 "cells": [
  {
   "cell_type": "markdown",
   "metadata": {},
   "source": [
    "# Collaborative Filtering Recommendations using Original Values"
   ]
  },
  {
   "cell_type": "code",
   "execution_count": 35,
   "metadata": {},
   "outputs": [],
   "source": [
    "import pandas as pd\n",
    "import numpy as np\n",
    "import implicit\n",
    "\n",
    "from matplotlib import pyplot as plt\n",
    "from scipy.sparse import csr_matrix"
   ]
  },
  {
   "cell_type": "code",
   "execution_count": 36,
   "metadata": {},
   "outputs": [],
   "source": [
    "train = pd.read_csv(\"data\\\\train-plays.csv\")\n",
    "test = pd.read_csv(\"data\\\\test-plays.csv\")\n",
    "game_coding = pd.read_csv(\"data\\\\game-coding.csv\")"
   ]
  },
  {
   "cell_type": "code",
   "execution_count": 37,
   "metadata": {},
   "outputs": [
    {
     "output_type": "execute_result",
     "data": {
      "text/plain": "36447"
     },
     "metadata": {},
     "execution_count": 37
    }
   ],
   "source": [
    "train.shape[0]"
   ]
  },
  {
   "cell_type": "markdown",
   "metadata": {},
   "source": [
    "## Format training data"
   ]
  },
  {
   "cell_type": "code",
   "execution_count": 38,
   "metadata": {},
   "outputs": [],
   "source": [
    "game_user = train.pivot(index=\"game_id\", columns=\"user_id\", values=\"amount\")"
   ]
  },
  {
   "cell_type": "code",
   "execution_count": 39,
   "metadata": {},
   "outputs": [],
   "source": [
    "game_user = game_user.fillna(0)"
   ]
  },
  {
   "cell_type": "code",
   "execution_count": 40,
   "metadata": {},
   "outputs": [],
   "source": [
    "game_user_sparse = csr_matrix(game_user)"
   ]
  },
  {
   "cell_type": "code",
   "execution_count": 41,
   "metadata": {},
   "outputs": [],
   "source": [
    "user_game = game_user.T"
   ]
  },
  {
   "cell_type": "code",
   "execution_count": 42,
   "metadata": {},
   "outputs": [],
   "source": [
    "user_game_sparse = csr_matrix(user_game)"
   ]
  },
  {
   "cell_type": "code",
   "execution_count": 43,
   "metadata": {},
   "outputs": [],
   "source": [
    "user_ids = train['user_id'].unique()"
   ]
  },
  {
   "cell_type": "markdown",
   "metadata": {},
   "source": [
    "## Alternating Least Squares"
   ]
  },
  {
   "cell_type": "code",
   "execution_count": 44,
   "metadata": {},
   "outputs": [],
   "source": [
    "als = implicit.als.AlternatingLeastSquares(128)"
   ]
  },
  {
   "cell_type": "code",
   "execution_count": 45,
   "metadata": {},
   "outputs": [
    {
     "output_type": "stream",
     "name": "stderr",
     "text": "100%|██████████| 15/15 [00:00<00:00, 37.77it/s]\n"
    }
   ],
   "source": [
    "als.fit(game_user_sparse)"
   ]
  },
  {
   "cell_type": "code",
   "execution_count": 46,
   "metadata": {},
   "outputs": [],
   "source": [
    "# rows_list = list()\n",
    "# games_recommended = set()\n",
    "# for user_id in user_ids:\n",
    "#     results_dict = dict()\n",
    "#     results_dict['user_id'] = user_id\n",
    "#     test_df = test[test['user_id'] == user_id]\n",
    "#     recommendations_df = pd.DataFrame(als.recommend(user_id, user_game_sparse))\n",
    "#     recommended = test_df.merge(recommendations_df, left_on=\"game_id\", right_on=0)\n",
    "#     results_dict['num_recommended'] = recommended.shape[0]\n",
    "#     results_dict['total_to_recommend'] = test_df.shape[0]\n",
    "#     rows_list.append(results_dict)\n",
    "#     games_recommended.update(recommended[\"game_id\"].unique())"
   ]
  },
  {
   "cell_type": "code",
   "execution_count": 47,
   "metadata": {},
   "outputs": [
    {
     "output_type": "stream",
     "name": "stderr",
     "text": "100%|██████████| 1160/1160 [00:00<00:00, 38660.25it/s]\n"
    }
   ],
   "source": [
    "game_recs = np.ndarray.flatten(als.recommend_all(user_game_sparse))\n",
    "user_10 = np.repeat(user_game.index, 10)\n",
    "recommendations = pd.DataFrame({\"user_id\":user_10, \"game_id\":game_recs})"
   ]
  },
  {
   "cell_type": "code",
   "execution_count": 48,
   "metadata": {},
   "outputs": [],
   "source": [
    "results = recommendations.merge(test, on=\"user_id\")"
   ]
  },
  {
   "cell_type": "code",
   "execution_count": 49,
   "metadata": {},
   "outputs": [],
   "source": [
    "results['recommended'] = np.where(results.game_id_x == results.game_id_y, 1, 0)"
   ]
  },
  {
   "cell_type": "code",
   "execution_count": 50,
   "metadata": {},
   "outputs": [
    {
     "output_type": "execute_result",
     "data": {
      "text/plain": "0.19655172413793104"
     },
     "metadata": {},
     "execution_count": 50
    }
   ],
   "source": [
    "results[results.recommended == 1].shape[0] / test.shape[0]"
   ]
  },
  {
   "cell_type": "code",
   "execution_count": 53,
   "metadata": {},
   "outputs": [
    {
     "output_type": "execute_result",
     "data": {
      "text/plain": "0.7046979865771812"
     },
     "metadata": {},
     "execution_count": 53
    }
   ],
   "source": [
    "np.unique(game_recs).size / train.game_id.unique().size"
   ]
  },
  {
   "cell_type": "code",
   "execution_count": null,
   "metadata": {},
   "outputs": [],
   "source": []
  }
 ],
 "metadata": {
  "file_extension": ".py",
  "kernelspec": {
   "display_name": "Python 3.7.4 64-bit ('env': virtualenv)",
   "language": "python",
   "name": "python37464bitenvvirtualenv134144d15e934197ba684dd19abdd03c"
  },
  "language_info": {
   "codemirror_mode": {
    "name": "ipython",
    "version": 3
   },
   "file_extension": ".py",
   "mimetype": "text/x-python",
   "name": "python",
   "nbconvert_exporter": "python",
   "pygments_lexer": "ipython3",
   "version": "3.7.4-final"
  },
  "mimetype": "text/x-python",
  "name": "python",
  "npconvert_exporter": "python",
  "pygments_lexer": "ipython3",
  "version": 3
 },
 "nbformat": 4,
 "nbformat_minor": 2
}