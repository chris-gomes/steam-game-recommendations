{
 "cells": [
  {
   "cell_type": "markdown",
   "metadata": {},
   "source": [
    "# Collaborative Filtering Recommendations using Original Values"
   ]
  },
  {
   "cell_type": "code",
   "execution_count": 1,
   "metadata": {},
   "outputs": [],
   "source": [
    "import pandas as pd\n",
    "import numpy as np\n",
    "import implicit\n",
    "\n",
    "from matplotlib import pyplot as plt\n",
    "from scipy.sparse import csr_matrix"
   ]
  },
  {
   "cell_type": "code",
   "execution_count": 2,
   "metadata": {},
   "outputs": [],
   "source": [
    "train = pd.read_csv(\"data\\\\train-plays.csv\")\n",
    "test = pd.read_csv(\"data\\\\test-plays.csv\")\n",
    "game_coding = pd.read_csv(\"data\\\\game-coding.csv\")"
   ]
  },
  {
   "cell_type": "markdown",
   "metadata": {},
   "source": [
    "## Format training data"
   ]
  },
  {
   "cell_type": "code",
   "execution_count": 3,
   "metadata": {},
   "outputs": [],
   "source": [
    "game_user = train.pivot(index=\"game_id\", columns=\"user_id\", values=\"amount\")"
   ]
  },
  {
   "cell_type": "code",
   "execution_count": 4,
   "metadata": {},
   "outputs": [],
   "source": [
    "game_user = game_user.fillna(0)"
   ]
  },
  {
   "cell_type": "code",
   "execution_count": 5,
   "metadata": {},
   "outputs": [],
   "source": [
    "game_user_sparse = csr_matrix(game_user)"
   ]
  },
  {
   "cell_type": "code",
   "execution_count": 6,
   "metadata": {},
   "outputs": [],
   "source": [
    "user_game = game_user.T"
   ]
  },
  {
   "cell_type": "code",
   "execution_count": 7,
   "metadata": {},
   "outputs": [],
   "source": [
    "user_game_sparse = csr_matrix(user_game)"
   ]
  },
  {
   "cell_type": "code",
   "execution_count": 8,
   "metadata": {},
   "outputs": [],
   "source": [
    "user_ids = train['user_id'].unique()"
   ]
  },
  {
   "cell_type": "markdown",
   "metadata": {},
   "source": [
    "# Alternating Least Squares"
   ]
  },
  {
   "cell_type": "code",
   "execution_count": 9,
   "metadata": {},
   "outputs": [
    {
     "output_type": "stream",
     "name": "stderr",
     "text": "WARNING:root:OpenBLAS detected. Its highly recommend to set the environment variable 'export OPENBLAS_NUM_THREADS=1' to disable its internal multithreading\n"
    }
   ],
   "source": [
    "als = implicit.als.AlternatingLeastSquares(128)"
   ]
  },
  {
   "cell_type": "code",
   "execution_count": 10,
   "metadata": {},
   "outputs": [
    {
     "output_type": "stream",
     "name": "stderr",
     "text": "100%|██████████| 15/15 [00:00<00:00, 28.74it/s]\n"
    }
   ],
   "source": [
    "als.fit(game_user_sparse)"
   ]
  },
  {
   "cell_type": "code",
   "execution_count": 33,
   "metadata": {},
   "outputs": [],
   "source": [
    "rows_list = list()\n",
    "games_recommended = set()\n",
    "for user_id in user_ids:\n",
    "    results_dict = dict()\n",
    "    results_dict['user_id'] = user_id\n",
    "    test_df = test[test['user_id'] == user_id]\n",
    "    recommendations_df = pd.DataFrame(als.recommend(user_id, user_game_sparse))\n",
    "    recommended = test_df.merge(recommendations_df, left_on=\"game_id\", right_on=0)\n",
    "    results_dict['num_recommended'] = recommended.shape[0]\n",
    "    results_dict['total_to_recommend'] = test_df.shape[0]\n",
    "    rows_list.append(results_dict)\n",
    "    games_recommended.update(recommended[\"game_id\"].unique())\n",
    "    # results_dict['num_correctly_recommended'] = 0\n",
    "    # results_dict['num_not_recommended'] = 0\n",
    "    # results_dict['num_incorrectly_recommended'] = 0\n",
    "    #print(recommendations_df, '\\n\\n', test_df)\n",
    "    # for j in range(0, len(test_df.index)):\n",
    "    #     curr_row = test_df.loc[j, :]\n",
    "    #     # user in top 95% of liking this game and the game was recommended\n",
    "    #     if curr_row['game_name'] in recs_as_list and curr_row['norm_amount'] >= 0.05:\n",
    "    #         results_dict['num_correctly_recommended'] = results_dict['num_correctly_recommended'] + 1\n",
    "    #     # user in top 95% of liking this game and the game was not recommended\n",
    "    #     elif curr_row['game_name'] not in recs_as_list and curr_row['norm_amount'] >= 0.05:\n",
    "    #         results_dict['num_not_recommended'] = results_dict['num_not_recommended'] + 1\n",
    "    #     # user in bottom 5% of liking this game and the game was recommended\n",
    "    #     elif curr_row['game_name'] in recs_as_list and curr_row['norm_amount'] < 0.05:\n",
    "    #         results_dict['num_incorrectly_recommended'] = results_dict['num_incorrectly_recommended'] + 1\n",
    "    # rows_list.append(results_dict)"
   ]
  },
  {
   "cell_type": "code",
   "execution_count": 34,
   "metadata": {},
   "outputs": [],
   "source": [
    "results = pd.DataFrame(rows_list)"
   ]
  },
  {
   "cell_type": "code",
   "execution_count": 36,
   "metadata": {},
   "outputs": [
    {
     "output_type": "execute_result",
     "data": {
      "text/plain": "0.1726742645109992"
     },
     "metadata": {},
     "execution_count": 36
    }
   ],
   "source": [
    "results['num_recommended'].sum() / results['total_to_recommend'].sum()"
   ]
  },
  {
   "cell_type": "code",
   "execution_count": 37,
   "metadata": {},
   "outputs": [
    {
     "output_type": "execute_result",
     "data": {
      "text/plain": "0.8273257354890008"
     },
     "metadata": {},
     "execution_count": 37
    }
   ],
   "source": [
    "results['num_not_recommended'].sum() / results['total_to_recommend'].sum()"
   ]
  },
  {
   "cell_type": "code",
   "execution_count": 38,
   "metadata": {},
   "outputs": [
    {
     "output_type": "execute_result",
     "data": {
      "text/plain": "0.19379354021532616"
     },
     "metadata": {},
     "execution_count": 38
    }
   ],
   "source": [
    "len(games_recommended) / train['game_id'].unique().size"
   ]
  }
 ],
 "metadata": {
  "file_extension": ".py",
  "kernelspec": {
   "display_name": "Python 3.7.4 64-bit ('env': virtualenv)",
   "language": "python",
   "name": "python37464bitenvvirtualenv134144d15e934197ba684dd19abdd03c"
  },
  "language_info": {
   "codemirror_mode": {
    "name": "ipython",
    "version": 3
   },
   "file_extension": ".py",
   "mimetype": "text/x-python",
   "name": "python",
   "nbconvert_exporter": "python",
   "pygments_lexer": "ipython3",
   "version": "3.7.4-final"
  },
  "mimetype": "text/x-python",
  "name": "python",
  "npconvert_exporter": "python",
  "pygments_lexer": "ipython3",
  "version": 3
 },
 "nbformat": 4,
 "nbformat_minor": 2
}