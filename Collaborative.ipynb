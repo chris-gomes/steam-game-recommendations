{
 "nbformat": 4,
 "nbformat_minor": 2,
 "metadata": {
  "language_info": {
   "name": "python",
   "codemirror_mode": {
    "name": "ipython",
    "version": 3
   },
   "version": "3.7.4-final"
  },
  "orig_nbformat": 2,
  "file_extension": ".py",
  "mimetype": "text/x-python",
  "name": "python",
  "npconvert_exporter": "python",
  "pygments_lexer": "ipython3",
  "version": 3,
  "kernelspec": {
   "name": "python37464bitenvvirtualenv134144d15e934197ba684dd19abdd03c",
   "display_name": "Python 3.7.4 64-bit ('env': virtualenv)"
  }
 },
 "cells": [
  {
   "cell_type": "markdown",
   "metadata": {},
   "source": [
    "# Collaborative Filtering Recommendations using Original Values"
   ]
  },
  {
   "cell_type": "code",
   "execution_count": 1,
   "metadata": {},
   "outputs": [],
   "source": [
    "import pandas as pd\n",
    "import numpy as np\n",
    "import implicit\n",
    "\n",
    "from matplotlib import pyplot as plt\n",
    "from scipy.sparse import csr_matrix"
   ]
  },
  {
   "cell_type": "code",
   "execution_count": 2,
   "metadata": {},
   "outputs": [],
   "source": [
    "train = pd.read_csv(\"data\\\\train-plays.csv\")\n",
    "test = pd.read_csv(\"data\\\\test-plays.csv\")"
   ]
  },
  {
   "cell_type": "markdown",
   "metadata": {},
   "source": [
    "## Format training data"
   ]
  },
  {
   "cell_type": "code",
   "execution_count": 3,
   "metadata": {},
   "outputs": [],
   "source": [
    "game_user = train.pivot(index=\"game_name\", columns=\"user_id\", values=\"amount\")"
   ]
  },
  {
   "cell_type": "code",
   "execution_count": 4,
   "metadata": {},
   "outputs": [],
   "source": [
    "game_user = game_user.fillna(0)"
   ]
  },
  {
   "cell_type": "code",
   "execution_count": 5,
   "metadata": {},
   "outputs": [],
   "source": [
    "# create user and game incodings\n",
    "user_coding = pd.DataFrame({\"original\":game_user.columns, \"coded\":np.arange(game_user.columns.size)})\n",
    "game_coding = pd.DataFrame({\"original\":game_user.index, \"coded\":np.arange(game_user.index.size)})"
   ]
  },
  {
   "cell_type": "code",
   "execution_count": 6,
   "metadata": {},
   "outputs": [],
   "source": [
    "game_user.columns = user_coding['coded']\n",
    "game_user.index = game_coding['coded']"
   ]
  },
  {
   "cell_type": "code",
   "execution_count": 25,
   "metadata": {},
   "outputs": [],
   "source": [
    "game_user_sparse = csr_matrix(game_user)"
   ]
  },
  {
   "cell_type": "code",
   "execution_count": 22,
   "metadata": {},
   "outputs": [],
   "source": [
    "user_game = game_user.T"
   ]
  },
  {
   "cell_type": "code",
   "execution_count": 23,
   "metadata": {},
   "outputs": [],
   "source": [
    "user_game_sparse = csr_matrix(user_game)"
   ]
  },
  {
   "cell_type": "markdown",
   "metadata": {},
   "source": [
    "# Alternating Least Squares"
   ]
  },
  {
   "cell_type": "code",
   "execution_count": 14,
   "metadata": {},
   "outputs": [],
   "source": [
    "als = implicit.als.AlternatingLeastSquares(128, use_gpu=True)"
   ]
  },
  {
   "cell_type": "code",
   "execution_count": 26,
   "metadata": {},
   "outputs": [
    {
     "output_type": "stream",
     "name": "stderr",
     "text": "100%|██████████| 15/15 [00:00<00:00, 29.59it/s]\n"
    }
   ],
   "source": [
    "als.fit(game_user_sparse)"
   ]
  },
  {
   "cell_type": "code",
   "execution_count": 30,
   "metadata": {},
   "outputs": [
    {
     "output_type": "execute_result",
     "data": {
      "text/plain": "      0         1                       original  coded\n0   361  0.765361         Call of Duty Black Ops    361\n1   370  0.567266  Call of Duty Modern Warfare 2    370\n2   372  0.395861  Call of Duty Modern Warfare 3    372\n3  1719  0.382153                         Portal   1719\n4   876  0.372286              Fallout New Vegas    876\n5  1426  0.371800          Medieval II Total War   1426\n6  1903  0.340836                 Rome Total War   1903\n7   227  0.312294      Battlefield Bad Company 2    227\n8  2286  0.306539                Team Fortress 2   2286\n9   697  0.300643                         Dota 2    697",
      "text/html": "<div>\n<style scoped>\n    .dataframe tbody tr th:only-of-type {\n        vertical-align: middle;\n    }\n\n    .dataframe tbody tr th {\n        vertical-align: top;\n    }\n\n    .dataframe thead th {\n        text-align: right;\n    }\n</style>\n<table border=\"1\" class=\"dataframe\">\n  <thead>\n    <tr style=\"text-align: right;\">\n      <th></th>\n      <th>0</th>\n      <th>1</th>\n      <th>original</th>\n      <th>coded</th>\n    </tr>\n  </thead>\n  <tbody>\n    <tr>\n      <th>0</th>\n      <td>361</td>\n      <td>0.765361</td>\n      <td>Call of Duty Black Ops</td>\n      <td>361</td>\n    </tr>\n    <tr>\n      <th>1</th>\n      <td>370</td>\n      <td>0.567266</td>\n      <td>Call of Duty Modern Warfare 2</td>\n      <td>370</td>\n    </tr>\n    <tr>\n      <th>2</th>\n      <td>372</td>\n      <td>0.395861</td>\n      <td>Call of Duty Modern Warfare 3</td>\n      <td>372</td>\n    </tr>\n    <tr>\n      <th>3</th>\n      <td>1719</td>\n      <td>0.382153</td>\n      <td>Portal</td>\n      <td>1719</td>\n    </tr>\n    <tr>\n      <th>4</th>\n      <td>876</td>\n      <td>0.372286</td>\n      <td>Fallout New Vegas</td>\n      <td>876</td>\n    </tr>\n    <tr>\n      <th>5</th>\n      <td>1426</td>\n      <td>0.371800</td>\n      <td>Medieval II Total War</td>\n      <td>1426</td>\n    </tr>\n    <tr>\n      <th>6</th>\n      <td>1903</td>\n      <td>0.340836</td>\n      <td>Rome Total War</td>\n      <td>1903</td>\n    </tr>\n    <tr>\n      <th>7</th>\n      <td>227</td>\n      <td>0.312294</td>\n      <td>Battlefield Bad Company 2</td>\n      <td>227</td>\n    </tr>\n    <tr>\n      <th>8</th>\n      <td>2286</td>\n      <td>0.306539</td>\n      <td>Team Fortress 2</td>\n      <td>2286</td>\n    </tr>\n    <tr>\n      <th>9</th>\n      <td>697</td>\n      <td>0.300643</td>\n      <td>Dota 2</td>\n      <td>697</td>\n    </tr>\n  </tbody>\n</table>\n</div>"
     },
     "metadata": {},
     "execution_count": 30
    }
   ],
   "source": [
    "pd.DataFrame(als.recommend(0, user_game_sparse)).merge(game_coding, left_on=0, right_on=\"coded\")"
   ]
  },
  {
   "cell_type": "code",
   "execution_count": 36,
   "metadata": {},
   "outputs": [
    {
     "output_type": "execute_result",
     "data": {
      "text/plain": "       user_id                      game_name  amount  norm_amount\n1029     76767         Call of Duty Black Ops    22.0     0.057692\n2049     76767  Call of Duty Modern Warfare 2    65.0     0.175824\n6112     76767           Thief Deadly Shadows     3.4     0.006593\n10243    76767  Call of Duty Modern Warfare 3    15.9     0.040934",
      "text/html": "<div>\n<style scoped>\n    .dataframe tbody tr th:only-of-type {\n        vertical-align: middle;\n    }\n\n    .dataframe tbody tr th {\n        vertical-align: top;\n    }\n\n    .dataframe thead th {\n        text-align: right;\n    }\n</style>\n<table border=\"1\" class=\"dataframe\">\n  <thead>\n    <tr style=\"text-align: right;\">\n      <th></th>\n      <th>user_id</th>\n      <th>game_name</th>\n      <th>amount</th>\n      <th>norm_amount</th>\n    </tr>\n  </thead>\n  <tbody>\n    <tr>\n      <th>1029</th>\n      <td>76767</td>\n      <td>Call of Duty Black Ops</td>\n      <td>22.0</td>\n      <td>0.057692</td>\n    </tr>\n    <tr>\n      <th>2049</th>\n      <td>76767</td>\n      <td>Call of Duty Modern Warfare 2</td>\n      <td>65.0</td>\n      <td>0.175824</td>\n    </tr>\n    <tr>\n      <th>6112</th>\n      <td>76767</td>\n      <td>Thief Deadly Shadows</td>\n      <td>3.4</td>\n      <td>0.006593</td>\n    </tr>\n    <tr>\n      <th>10243</th>\n      <td>76767</td>\n      <td>Call of Duty Modern Warfare 3</td>\n      <td>15.9</td>\n      <td>0.040934</td>\n    </tr>\n  </tbody>\n</table>\n</div>"
     },
     "metadata": {},
     "execution_count": 36
    }
   ],
   "source": [
    "test[test['user_id'] == 76767]"
   ]
  },
  {
   "cell_type": "code",
   "execution_count": 39,
   "metadata": {},
   "outputs": [
    {
     "output_type": "execute_result",
     "data": {
      "text/plain": "       original  coded\n0         76767      0\n1         86540      1\n2        229911      2\n3        298950      3\n4        554278      4\n...         ...    ...\n2037  290542222   2037\n2038  293042025   2038\n2039  294620986   2039\n2040  296283194   2040\n2041  300708628   2041\n\n[2042 rows x 2 columns]",
      "text/html": "<div>\n<style scoped>\n    .dataframe tbody tr th:only-of-type {\n        vertical-align: middle;\n    }\n\n    .dataframe tbody tr th {\n        vertical-align: top;\n    }\n\n    .dataframe thead th {\n        text-align: right;\n    }\n</style>\n<table border=\"1\" class=\"dataframe\">\n  <thead>\n    <tr style=\"text-align: right;\">\n      <th></th>\n      <th>original</th>\n      <th>coded</th>\n    </tr>\n  </thead>\n  <tbody>\n    <tr>\n      <th>0</th>\n      <td>76767</td>\n      <td>0</td>\n    </tr>\n    <tr>\n      <th>1</th>\n      <td>86540</td>\n      <td>1</td>\n    </tr>\n    <tr>\n      <th>2</th>\n      <td>229911</td>\n      <td>2</td>\n    </tr>\n    <tr>\n      <th>3</th>\n      <td>298950</td>\n      <td>3</td>\n    </tr>\n    <tr>\n      <th>4</th>\n      <td>554278</td>\n      <td>4</td>\n    </tr>\n    <tr>\n      <th>...</th>\n      <td>...</td>\n      <td>...</td>\n    </tr>\n    <tr>\n      <th>2037</th>\n      <td>290542222</td>\n      <td>2037</td>\n    </tr>\n    <tr>\n      <th>2038</th>\n      <td>293042025</td>\n      <td>2038</td>\n    </tr>\n    <tr>\n      <th>2039</th>\n      <td>294620986</td>\n      <td>2039</td>\n    </tr>\n    <tr>\n      <th>2040</th>\n      <td>296283194</td>\n      <td>2040</td>\n    </tr>\n    <tr>\n      <th>2041</th>\n      <td>300708628</td>\n      <td>2041</td>\n    </tr>\n  </tbody>\n</table>\n<p>2042 rows × 2 columns</p>\n</div>"
     },
     "metadata": {},
     "execution_count": 39
    }
   ],
   "source": [
    "user_coding"
   ]
  },
  {
   "cell_type": "code",
   "execution_count": 37,
   "metadata": {},
   "outputs": [
    {
     "output_type": "execute_result",
     "data": {
      "text/plain": "       user_id                                    game_name  amount  \\\n475      76767                             Total War ATTILA   207.0   \n5858     76767         Call of Duty Black Ops - Multiplayer    12.5   \n6734     76767                                     Banished    24.0   \n7792     76767                        Counter-Strike Source    25.0   \n10295    76767                               Counter-Strike   365.0   \n11550    76767              Counter-Strike Global Offensive     3.5   \n12243    76767  Call of Duty Modern Warfare 3 - Multiplayer     9.7   \n15523    76767  Call of Duty Modern Warfare 2 - Multiplayer   165.0   \n16121    76767                                     Portal 2    15.0   \n18993    76767                          The Stanley Parable     1.8   \n20960    76767                 Age of Empires II HD Edition    13.1   \n25726    76767                    Call of Duty World at War   271.0   \n26732    76767                                    Half-Life     1.2   \n28216    76767             Rise of Nations Extended Edition     5.7   \n\n       norm_amount  \n475       0.565934  \n5858      0.031593  \n6734      0.063187  \n7792      0.065934  \n10295     1.000000  \n11550     0.006868  \n12243     0.023901  \n15523     0.450549  \n16121     0.038462  \n18993     0.002198  \n20960     0.033242  \n25726     0.741758  \n26732     0.000549  \n28216     0.012912  ",
      "text/html": "<div>\n<style scoped>\n    .dataframe tbody tr th:only-of-type {\n        vertical-align: middle;\n    }\n\n    .dataframe tbody tr th {\n        vertical-align: top;\n    }\n\n    .dataframe thead th {\n        text-align: right;\n    }\n</style>\n<table border=\"1\" class=\"dataframe\">\n  <thead>\n    <tr style=\"text-align: right;\">\n      <th></th>\n      <th>user_id</th>\n      <th>game_name</th>\n      <th>amount</th>\n      <th>norm_amount</th>\n    </tr>\n  </thead>\n  <tbody>\n    <tr>\n      <th>475</th>\n      <td>76767</td>\n      <td>Total War ATTILA</td>\n      <td>207.0</td>\n      <td>0.565934</td>\n    </tr>\n    <tr>\n      <th>5858</th>\n      <td>76767</td>\n      <td>Call of Duty Black Ops - Multiplayer</td>\n      <td>12.5</td>\n      <td>0.031593</td>\n    </tr>\n    <tr>\n      <th>6734</th>\n      <td>76767</td>\n      <td>Banished</td>\n      <td>24.0</td>\n      <td>0.063187</td>\n    </tr>\n    <tr>\n      <th>7792</th>\n      <td>76767</td>\n      <td>Counter-Strike Source</td>\n      <td>25.0</td>\n      <td>0.065934</td>\n    </tr>\n    <tr>\n      <th>10295</th>\n      <td>76767</td>\n      <td>Counter-Strike</td>\n      <td>365.0</td>\n      <td>1.000000</td>\n    </tr>\n    <tr>\n      <th>11550</th>\n      <td>76767</td>\n      <td>Counter-Strike Global Offensive</td>\n      <td>3.5</td>\n      <td>0.006868</td>\n    </tr>\n    <tr>\n      <th>12243</th>\n      <td>76767</td>\n      <td>Call of Duty Modern Warfare 3 - Multiplayer</td>\n      <td>9.7</td>\n      <td>0.023901</td>\n    </tr>\n    <tr>\n      <th>15523</th>\n      <td>76767</td>\n      <td>Call of Duty Modern Warfare 2 - Multiplayer</td>\n      <td>165.0</td>\n      <td>0.450549</td>\n    </tr>\n    <tr>\n      <th>16121</th>\n      <td>76767</td>\n      <td>Portal 2</td>\n      <td>15.0</td>\n      <td>0.038462</td>\n    </tr>\n    <tr>\n      <th>18993</th>\n      <td>76767</td>\n      <td>The Stanley Parable</td>\n      <td>1.8</td>\n      <td>0.002198</td>\n    </tr>\n    <tr>\n      <th>20960</th>\n      <td>76767</td>\n      <td>Age of Empires II HD Edition</td>\n      <td>13.1</td>\n      <td>0.033242</td>\n    </tr>\n    <tr>\n      <th>25726</th>\n      <td>76767</td>\n      <td>Call of Duty World at War</td>\n      <td>271.0</td>\n      <td>0.741758</td>\n    </tr>\n    <tr>\n      <th>26732</th>\n      <td>76767</td>\n      <td>Half-Life</td>\n      <td>1.2</td>\n      <td>0.000549</td>\n    </tr>\n    <tr>\n      <th>28216</th>\n      <td>76767</td>\n      <td>Rise of Nations Extended Edition</td>\n      <td>5.7</td>\n      <td>0.012912</td>\n    </tr>\n  </tbody>\n</table>\n</div>"
     },
     "metadata": {},
     "execution_count": 37
    }
   ],
   "source": [
    "train[train['user_id'] == 76767]"
   ]
  },
  {
   "cell_type": "code",
   "execution_count": null,
   "metadata": {},
   "outputs": [],
   "source": []
  }
 ]
}