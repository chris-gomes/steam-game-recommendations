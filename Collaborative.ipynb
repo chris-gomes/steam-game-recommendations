{
 "nbformat": 4,
 "nbformat_minor": 2,
 "metadata": {
  "language_info": {
   "name": "python",
   "codemirror_mode": {
    "name": "ipython",
    "version": 3
   },
   "version": "3.7.4-final"
  },
  "orig_nbformat": 2,
  "file_extension": ".py",
  "mimetype": "text/x-python",
  "name": "python",
  "npconvert_exporter": "python",
  "pygments_lexer": "ipython3",
  "version": 3,
  "kernelspec": {
   "name": "ad97b4d3-3603-42ea-a3a9-d85602907d4d",
   "display_name": "'Python Interactive'"
  }
 },
 "cells": [
  {
   "cell_type": "code",
   "execution_count": 1,
   "metadata": {},
   "outputs": [],
   "source": [
    "import pandas as pd\n",
    "import numpy as np\n",
    "\n",
    "from sklearn import preprocessing"
   ]
  },
  {
   "cell_type": "code",
   "execution_count": 2,
   "metadata": {},
   "outputs": [],
   "source": [
    "user_behavior = pd.read_csv(\"data\\\\steam-200k.csv\", header=None).drop(columns=4)\n",
    "user_behavior.columns = [\"user_id\", \"game_name\", \"behavior\", \"amount\"]"
   ]
  },
  {
   "cell_type": "markdown",
   "metadata": {},
   "source": [
    "# User Based (using just \"play\" behavior)"
   ]
  },
  {
   "cell_type": "code",
   "execution_count": 28,
   "metadata": {},
   "outputs": [],
   "source": [
    "user_plays = user_behavior[user_behavior[\"behavior\"] == \"play\"].drop(columns=\"behavior\")"
   ]
  },
  {
   "cell_type": "code",
   "execution_count": 29,
   "metadata": {},
   "outputs": [],
   "source": [
    "user_plays = user_plays.groupby([\"user_id\", \"game_name\"]).sum().reset_index()"
   ]
  },
  {
   "cell_type": "code",
   "execution_count": null,
   "metadata": {},
   "outputs": [],
   "source": [
    "play_totals ="
   ]
  },
  {
   "cell_type": "code",
   "execution_count": 27,
   "metadata": {},
   "outputs": [
    {
     "data": {
      "text/html": "<div>\n<style scoped>\n    .dataframe tbody tr th:only-of-type {\n        vertical-align: middle;\n    }\n\n    .dataframe tbody tr th {\n        vertical-align: top;\n    }\n\n    .dataframe thead th {\n        text-align: right;\n    }\n</style>\n<table border=\"1\" class=\"dataframe\">\n  <thead>\n    <tr style=\"text-align: right;\">\n      <th>game_name</th>\n      <th>007 Legends</th>\n      <th>0RBITALIS</th>\n      <th>1... 2... 3... KICK IT! (Drop That Beat Like an Ugly Baby)</th>\n      <th>10 Second Ninja</th>\n      <th>10,000,000</th>\n      <th>100% Orange Juice</th>\n      <th>1000 Amps</th>\n      <th>12 Labours of Hercules</th>\n      <th>12 Labours of Hercules II The Cretan Bull</th>\n      <th>12 Labours of Hercules III Girl Power</th>\n      <th>...</th>\n      <th>rFactor</th>\n      <th>rFactor 2</th>\n      <th>realMyst</th>\n      <th>realMyst Masterpiece Edition</th>\n      <th>resident evil 4 / biohazard 4</th>\n      <th>rymdkapsel</th>\n      <th>sZone-Online</th>\n      <th>the static speaks my name</th>\n      <th>theHunter</th>\n      <th>theHunter Primal</th>\n    </tr>\n    <tr>\n      <th>user_id</th>\n      <th></th>\n      <th></th>\n      <th></th>\n      <th></th>\n      <th></th>\n      <th></th>\n      <th></th>\n      <th></th>\n      <th></th>\n      <th></th>\n      <th></th>\n      <th></th>\n      <th></th>\n      <th></th>\n      <th></th>\n      <th></th>\n      <th></th>\n      <th></th>\n      <th></th>\n      <th></th>\n      <th></th>\n    </tr>\n  </thead>\n  <tbody>\n    <tr>\n      <td>5250</td>\n      <td>NaN</td>\n      <td>NaN</td>\n      <td>NaN</td>\n      <td>NaN</td>\n      <td>NaN</td>\n      <td>NaN</td>\n      <td>NaN</td>\n      <td>NaN</td>\n      <td>NaN</td>\n      <td>NaN</td>\n      <td>...</td>\n      <td>NaN</td>\n      <td>NaN</td>\n      <td>NaN</td>\n      <td>NaN</td>\n      <td>NaN</td>\n      <td>NaN</td>\n      <td>NaN</td>\n      <td>NaN</td>\n      <td>NaN</td>\n      <td>NaN</td>\n    </tr>\n    <tr>\n      <td>76767</td>\n      <td>NaN</td>\n      <td>NaN</td>\n      <td>NaN</td>\n      <td>NaN</td>\n      <td>NaN</td>\n      <td>NaN</td>\n      <td>NaN</td>\n      <td>NaN</td>\n      <td>NaN</td>\n      <td>NaN</td>\n      <td>...</td>\n      <td>NaN</td>\n      <td>NaN</td>\n      <td>NaN</td>\n      <td>NaN</td>\n      <td>NaN</td>\n      <td>NaN</td>\n      <td>NaN</td>\n      <td>NaN</td>\n      <td>NaN</td>\n      <td>NaN</td>\n    </tr>\n    <tr>\n      <td>86540</td>\n      <td>NaN</td>\n      <td>NaN</td>\n      <td>NaN</td>\n      <td>NaN</td>\n      <td>NaN</td>\n      <td>NaN</td>\n      <td>NaN</td>\n      <td>NaN</td>\n      <td>NaN</td>\n      <td>NaN</td>\n      <td>...</td>\n      <td>NaN</td>\n      <td>NaN</td>\n      <td>NaN</td>\n      <td>NaN</td>\n      <td>NaN</td>\n      <td>NaN</td>\n      <td>NaN</td>\n      <td>NaN</td>\n      <td>NaN</td>\n      <td>NaN</td>\n    </tr>\n    <tr>\n      <td>144736</td>\n      <td>NaN</td>\n      <td>NaN</td>\n      <td>NaN</td>\n      <td>NaN</td>\n      <td>NaN</td>\n      <td>NaN</td>\n      <td>NaN</td>\n      <td>NaN</td>\n      <td>NaN</td>\n      <td>NaN</td>\n      <td>...</td>\n      <td>NaN</td>\n      <td>NaN</td>\n      <td>NaN</td>\n      <td>NaN</td>\n      <td>NaN</td>\n      <td>NaN</td>\n      <td>NaN</td>\n      <td>NaN</td>\n      <td>NaN</td>\n      <td>NaN</td>\n    </tr>\n    <tr>\n      <td>181212</td>\n      <td>NaN</td>\n      <td>NaN</td>\n      <td>NaN</td>\n      <td>NaN</td>\n      <td>NaN</td>\n      <td>NaN</td>\n      <td>NaN</td>\n      <td>NaN</td>\n      <td>NaN</td>\n      <td>NaN</td>\n      <td>...</td>\n      <td>NaN</td>\n      <td>NaN</td>\n      <td>NaN</td>\n      <td>NaN</td>\n      <td>NaN</td>\n      <td>NaN</td>\n      <td>NaN</td>\n      <td>NaN</td>\n      <td>NaN</td>\n      <td>NaN</td>\n    </tr>\n    <tr>\n      <td>...</td>\n      <td>...</td>\n      <td>...</td>\n      <td>...</td>\n      <td>...</td>\n      <td>...</td>\n      <td>...</td>\n      <td>...</td>\n      <td>...</td>\n      <td>...</td>\n      <td>...</td>\n      <td>...</td>\n      <td>...</td>\n      <td>...</td>\n      <td>...</td>\n      <td>...</td>\n      <td>...</td>\n      <td>...</td>\n      <td>...</td>\n      <td>...</td>\n      <td>...</td>\n      <td>...</td>\n    </tr>\n    <tr>\n      <td>309434439</td>\n      <td>NaN</td>\n      <td>NaN</td>\n      <td>NaN</td>\n      <td>NaN</td>\n      <td>NaN</td>\n      <td>NaN</td>\n      <td>NaN</td>\n      <td>NaN</td>\n      <td>NaN</td>\n      <td>NaN</td>\n      <td>...</td>\n      <td>NaN</td>\n      <td>NaN</td>\n      <td>NaN</td>\n      <td>NaN</td>\n      <td>NaN</td>\n      <td>NaN</td>\n      <td>NaN</td>\n      <td>NaN</td>\n      <td>NaN</td>\n      <td>NaN</td>\n    </tr>\n    <tr>\n      <td>309554670</td>\n      <td>NaN</td>\n      <td>NaN</td>\n      <td>NaN</td>\n      <td>NaN</td>\n      <td>NaN</td>\n      <td>NaN</td>\n      <td>NaN</td>\n      <td>NaN</td>\n      <td>NaN</td>\n      <td>NaN</td>\n      <td>...</td>\n      <td>NaN</td>\n      <td>NaN</td>\n      <td>NaN</td>\n      <td>NaN</td>\n      <td>NaN</td>\n      <td>NaN</td>\n      <td>NaN</td>\n      <td>NaN</td>\n      <td>NaN</td>\n      <td>NaN</td>\n    </tr>\n    <tr>\n      <td>309626088</td>\n      <td>NaN</td>\n      <td>NaN</td>\n      <td>NaN</td>\n      <td>NaN</td>\n      <td>NaN</td>\n      <td>NaN</td>\n      <td>NaN</td>\n      <td>NaN</td>\n      <td>NaN</td>\n      <td>NaN</td>\n      <td>...</td>\n      <td>NaN</td>\n      <td>NaN</td>\n      <td>NaN</td>\n      <td>NaN</td>\n      <td>NaN</td>\n      <td>NaN</td>\n      <td>NaN</td>\n      <td>NaN</td>\n      <td>NaN</td>\n      <td>NaN</td>\n    </tr>\n    <tr>\n      <td>309824202</td>\n      <td>NaN</td>\n      <td>NaN</td>\n      <td>NaN</td>\n      <td>NaN</td>\n      <td>NaN</td>\n      <td>NaN</td>\n      <td>NaN</td>\n      <td>NaN</td>\n      <td>NaN</td>\n      <td>NaN</td>\n      <td>...</td>\n      <td>NaN</td>\n      <td>NaN</td>\n      <td>NaN</td>\n      <td>NaN</td>\n      <td>NaN</td>\n      <td>NaN</td>\n      <td>NaN</td>\n      <td>NaN</td>\n      <td>NaN</td>\n      <td>NaN</td>\n    </tr>\n    <tr>\n      <td>309903146</td>\n      <td>NaN</td>\n      <td>NaN</td>\n      <td>NaN</td>\n      <td>NaN</td>\n      <td>NaN</td>\n      <td>NaN</td>\n      <td>NaN</td>\n      <td>NaN</td>\n      <td>NaN</td>\n      <td>NaN</td>\n      <td>...</td>\n      <td>NaN</td>\n      <td>NaN</td>\n      <td>NaN</td>\n      <td>NaN</td>\n      <td>NaN</td>\n      <td>NaN</td>\n      <td>NaN</td>\n      <td>NaN</td>\n      <td>NaN</td>\n      <td>NaN</td>\n    </tr>\n  </tbody>\n</table>\n<p>11350 rows × 3600 columns</p>\n</div>",
      "text/plain": "game_name  007 Legends  0RBITALIS  \\\nuser_id                             \n5250               NaN        NaN   \n76767              NaN        NaN   \n86540              NaN        NaN   \n144736             NaN        NaN   \n181212             NaN        NaN   \n...                ...        ...   \n309434439          NaN        NaN   \n309554670          NaN        NaN   \n309626088          NaN        NaN   \n309824202          NaN        NaN   \n309903146          NaN        NaN   \n\ngame_name  1... 2... 3... KICK IT! (Drop That Beat Like an Ugly Baby)  \\\nuser_id                                                                 \n5250                                                     NaN            \n76767                                                    NaN            \n86540                                                    NaN            \n144736                                                   NaN            \n181212                                                   NaN            \n...                                                      ...            \n309434439                                                NaN            \n309554670                                                NaN            \n309626088                                                NaN            \n309824202                                                NaN            \n309903146                                                NaN            \n\ngame_name  10 Second Ninja  10,000,000  100% Orange Juice  1000 Amps  \\\nuser_id                                                                \n5250                   NaN         NaN                NaN        NaN   \n76767                  NaN         NaN                NaN        NaN   \n86540                  NaN         NaN                NaN        NaN   \n144736                 NaN         NaN                NaN        NaN   \n181212                 NaN         NaN                NaN        NaN   \n...                    ...         ...                ...        ...   \n309434439              NaN         NaN                NaN        NaN   \n309554670              NaN         NaN                NaN        NaN   \n309626088              NaN         NaN                NaN        NaN   \n309824202              NaN         NaN                NaN        NaN   \n309903146              NaN         NaN                NaN        NaN   \n\ngame_name  12 Labours of Hercules  12 Labours of Hercules II The Cretan Bull  \\\nuser_id                                                                        \n5250                          NaN                                        NaN   \n76767                         NaN                                        NaN   \n86540                         NaN                                        NaN   \n144736                        NaN                                        NaN   \n181212                        NaN                                        NaN   \n...                           ...                                        ...   \n309434439                     NaN                                        NaN   \n309554670                     NaN                                        NaN   \n309626088                     NaN                                        NaN   \n309824202                     NaN                                        NaN   \n309903146                     NaN                                        NaN   \n\ngame_name  12 Labours of Hercules III Girl Power  ...  rFactor  rFactor 2  \\\nuser_id                                           ...                       \n5250                                         NaN  ...      NaN        NaN   \n76767                                        NaN  ...      NaN        NaN   \n86540                                        NaN  ...      NaN        NaN   \n144736                                       NaN  ...      NaN        NaN   \n181212                                       NaN  ...      NaN        NaN   \n...                                          ...  ...      ...        ...   \n309434439                                    NaN  ...      NaN        NaN   \n309554670                                    NaN  ...      NaN        NaN   \n309626088                                    NaN  ...      NaN        NaN   \n309824202                                    NaN  ...      NaN        NaN   \n309903146                                    NaN  ...      NaN        NaN   \n\ngame_name  realMyst  realMyst Masterpiece Edition  \\\nuser_id                                             \n5250            NaN                           NaN   \n76767           NaN                           NaN   \n86540           NaN                           NaN   \n144736          NaN                           NaN   \n181212          NaN                           NaN   \n...             ...                           ...   \n309434439       NaN                           NaN   \n309554670       NaN                           NaN   \n309626088       NaN                           NaN   \n309824202       NaN                           NaN   \n309903146       NaN                           NaN   \n\ngame_name  resident evil 4 / biohazard 4  rymdkapsel  sZone-Online  \\\nuser_id                                                              \n5250                                 NaN         NaN           NaN   \n76767                                NaN         NaN           NaN   \n86540                                NaN         NaN           NaN   \n144736                               NaN         NaN           NaN   \n181212                               NaN         NaN           NaN   \n...                                  ...         ...           ...   \n309434439                            NaN         NaN           NaN   \n309554670                            NaN         NaN           NaN   \n309626088                            NaN         NaN           NaN   \n309824202                            NaN         NaN           NaN   \n309903146                            NaN         NaN           NaN   \n\ngame_name  the static speaks my name  theHunter  theHunter Primal  \nuser_id                                                            \n5250                             NaN        NaN               NaN  \n76767                            NaN        NaN               NaN  \n86540                            NaN        NaN               NaN  \n144736                           NaN        NaN               NaN  \n181212                           NaN        NaN               NaN  \n...                              ...        ...               ...  \n309434439                        NaN        NaN               NaN  \n309554670                        NaN        NaN               NaN  \n309626088                        NaN        NaN               NaN  \n309824202                        NaN        NaN               NaN  \n309903146                        NaN        NaN               NaN  \n\n[11350 rows x 3600 columns]"
     },
     "execution_count": 27,
     "metadata": {},
     "output_type": "execute_result"
    }
   ],
   "source": [
    "user_plays.pivot(index=\"user_id\", columns=\"game_name\", values=\"amount\")"
   ]
  },
  {
   "cell_type": "code",
   "execution_count": 17,
   "metadata": {},
   "outputs": [
    {
     "data": {
      "text/plain": "70477"
     },
     "execution_count": 17,
     "metadata": {},
     "output_type": "execute_result"
    }
   ],
   "source": [
    "for user in user_plays[\"user_id\"]"
   ]
  },
  {
   "cell_type": "code",
   "execution_count": null,
   "metadata": {},
   "outputs": [],
   "source": []
  }
 ]
}