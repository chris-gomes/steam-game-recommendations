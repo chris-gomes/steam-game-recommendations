{
 "nbformat": 4,
 "nbformat_minor": 2,
 "metadata": {
  "language_info": {
   "name": "python",
   "codemirror_mode": {
    "name": "ipython",
    "version": 3
   },
   "version": "3.7.4-final"
  },
  "orig_nbformat": 2,
  "file_extension": ".py",
  "mimetype": "text/x-python",
  "name": "python",
  "npconvert_exporter": "python",
  "pygments_lexer": "ipython3",
  "version": 3,
  "kernelspec": {
   "name": "ad97b4d3-3603-42ea-a3a9-d85602907d4d",
   "display_name": "'Python Interactive'"
  }
 },
 "cells": [
  {
   "cell_type": "markdown",
   "metadata": {},
   "source": [
    "# Collaborative Filtering Recommendations using Original Values"
   ]
  },
  {
   "cell_type": "code",
   "execution_count": 12,
   "metadata": {},
   "outputs": [],
   "source": [
    "import pandas as pd\n",
    "import numpy as np\n",
    "import implicit\n",
    "\n",
    "from matplotlib import pyplot as plt\n",
    "from scipy.sparse import csr_matrix"
   ]
  },
  {
   "cell_type": "code",
   "execution_count": 13,
   "metadata": {},
   "outputs": [],
   "source": [
    "train = pd.read_csv(\"data\\\\train-plays.csv\")\n",
    "test = pd.read_csv(\"data\\\\test-plays.csv\")"
   ]
  },
  {
   "cell_type": "markdown",
   "metadata": {},
   "source": [
    "## Format training data"
   ]
  },
  {
   "cell_type": "code",
   "execution_count": 36,
   "metadata": {},
   "outputs": [],
   "source": [
    "game_user = train.pivot(index=\"game_name\", columns=\"user_id\", values=\"amount\")"
   ]
  },
  {
   "cell_type": "code",
   "execution_count": 37,
   "metadata": {},
   "outputs": [],
   "source": [
    "game_user = game_user.fillna(0)"
   ]
  },
  {
   "cell_type": "code",
   "execution_count": 33,
   "metadata": {},
   "outputs": [],
   "source": [
    "# create user and game incodings\n",
    "user_coding = pd.DataFrame({\"original\":game_user.columns, \"coded\":np.arange(game_user.columns.size)})\n",
    "game_coding = pd.DataFrame({\"original\":game_user.index, \"coded\":np.arange(game_user.index.size)})"
   ]
  },
  {
   "cell_type": "code",
   "execution_count": 39,
   "metadata": {},
   "outputs": [],
   "source": [
    "game_user.columns = user_coding['coded']\n",
    "game_user.index = game_coding['coded']"
   ]
  },
  {
   "cell_type": "code",
   "execution_count": 45,
   "metadata": {},
   "outputs": [],
   "source": [
    "train_sparse = csr_matrix(game_user)"
   ]
  },
  {
   "cell_type": "code",
   "execution_count": 46,
   "metadata": {},
   "outputs": [
    {
     "output_type": "stream",
     "name": "stdout",
     "text": "(0, 401)\t5.0\n  (0, 478)\t11.2\n  (0, 568)\t1.2\n  (1, 232)\t3.6\n  (2, 360)\t1.8\n  (2, 896)\t3.1\n  (2, 1141)\t2.5\n  (2, 1601)\t1.4\n  (2, 1643)\t1.9\n  (3, 511)\t7.1\n  (3, 667)\t6.0\n  (3, 1150)\t2.8\n  (3, 1215)\t5.2\n  (3, 1360)\t3.6\n  (4, 1404)\t14.7\n  (4, 1459)\t1.3\n  (4, 1551)\t1.9\n  (5, 546)\t11.9\n  (5, 667)\t4.4\n  (5, 1360)\t3.3\n  (6, 196)\t1.2\n  (6, 1186)\t2.0\n  (7, 546)\t4.7\n  (7, 887)\t4.2\n  (8, 306)\t5.8\n  :\t:\n  (2734, 1301)\t3.6\n  (2734, 1337)\t31.0\n  (2734, 1370)\t7.6\n  (2734, 1382)\t3.5\n  (2734, 1395)\t6.0\n  (2734, 1431)\t3.3\n  (2734, 1450)\t2.1\n  (2734, 1522)\t2.3\n  (2734, 1542)\t2.9\n  (2734, 1567)\t8.5\n  (2734, 1579)\t2.0\n  (2734, 1580)\t1.3\n  (2734, 1615)\t3.1\n  (2734, 1810)\t3.3\n  (2734, 1847)\t1.2\n  (2734, 1895)\t1.7\n  (2734, 1899)\t1.0\n  (2734, 1927)\t1.3\n  (2734, 1946)\t1.2\n  (2734, 1966)\t1.3\n  (2734, 1978)\t1.0\n  (2734, 1994)\t6.9\n  (2734, 2011)\t1.3\n  (2735, 544)\t9.4\n  (2735, 1522)\t71.0\n"
    }
   ],
   "source": [
    "print(train_sparse)"
   ]
  },
  {
   "cell_type": "code",
   "execution_count": null,
   "metadata": {},
   "outputs": [],
   "source": []
  }
 ]
}