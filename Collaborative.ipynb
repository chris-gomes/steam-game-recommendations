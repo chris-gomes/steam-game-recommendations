{
 "nbformat": 4,
 "nbformat_minor": 2,
 "metadata": {
  "language_info": {
   "name": "python",
   "codemirror_mode": {
    "name": "ipython",
    "version": 3
   },
   "version": "3.7.4-final"
  },
  "orig_nbformat": 2,
  "file_extension": ".py",
  "mimetype": "text/x-python",
  "name": "python",
  "npconvert_exporter": "python",
  "pygments_lexer": "ipython3",
  "version": 3,
  "kernelspec": {
   "name": "python37464bitenvvirtualenv134144d15e934197ba684dd19abdd03c",
   "display_name": "Python 3.7.4 64-bit ('env': virtualenv)"
  }
 },
 "cells": [
  {
   "cell_type": "markdown",
   "metadata": {},
   "source": [
    "# Collaborative Filtering Recommendations using Original Values"
   ]
  },
  {
   "cell_type": "code",
   "execution_count": 3,
   "metadata": {},
   "outputs": [],
   "source": [
    "import pandas as pd\n",
    "import numpy as np\n",
    "import implicit\n",
    "\n",
    "from matplotlib import pyplot as plt\n",
    "from scipy.sparse import csr_matrix"
   ]
  },
  {
   "cell_type": "code",
   "execution_count": 4,
   "metadata": {},
   "outputs": [],
   "source": [
    "train = pd.read_csv(\"data\\\\train-plays.csv\")\n",
    "test = pd.read_csv(\"data\\\\test-plays.csv\")"
   ]
  },
  {
   "cell_type": "markdown",
   "metadata": {},
   "source": [
    "## Format training data"
   ]
  },
  {
   "cell_type": "code",
   "execution_count": 5,
   "metadata": {},
   "outputs": [],
   "source": [
    "game_user = train.pivot(index=\"game_name\", columns=\"user_id\", values=\"amount\")"
   ]
  },
  {
   "cell_type": "code",
   "execution_count": 6,
   "metadata": {},
   "outputs": [],
   "source": [
    "game_user = game_user.fillna(0)"
   ]
  },
  {
   "cell_type": "code",
   "execution_count": 7,
   "metadata": {},
   "outputs": [],
   "source": [
    "# create user and game incodings\n",
    "user_coding = pd.DataFrame({\"original\":game_user.columns, \"coded\":np.arange(game_user.columns.size)})\n",
    "game_coding = pd.DataFrame({\"original\":game_user.index, \"coded\":np.arange(game_user.index.size)})"
   ]
  },
  {
   "cell_type": "code",
   "execution_count": 8,
   "metadata": {},
   "outputs": [],
   "source": [
    "game_user.columns = user_coding['coded']\n",
    "game_user.index = game_coding['coded']"
   ]
  },
  {
   "cell_type": "code",
   "execution_count": 9,
   "metadata": {},
   "outputs": [],
   "source": [
    "game_user_sparse = csr_matrix(game_user)"
   ]
  },
  {
   "cell_type": "code",
   "execution_count": 10,
   "metadata": {},
   "outputs": [],
   "source": [
    "user_game = game_user.T"
   ]
  },
  {
   "cell_type": "code",
   "execution_count": 12,
   "metadata": {},
   "outputs": [],
   "source": [
    "user_game_sparse = csr_matrix(user_game)"
   ]
  },
  {
   "cell_type": "markdown",
   "metadata": {},
   "source": [
    "# Alternating Least Squares"
   ]
  },
  {
   "cell_type": "code",
   "execution_count": 22,
   "metadata": {},
   "outputs": [],
   "source": [
    "als = implicit.als.AlternatingLeastSquares(128)"
   ]
  },
  {
   "cell_type": "code",
   "execution_count": 23,
   "metadata": {},
   "outputs": [
    {
     "output_type": "error",
     "ename": "RuntimeError",
     "evalue": "Cuda Error: unknown error (implicit/cuda/matrix.cu:47)",
     "traceback": [
      "\u001b[1;31m---------------------------------------------------------------------------\u001b[0m",
      "\u001b[1;31mRuntimeError\u001b[0m                              Traceback (most recent call last)",
      "\u001b[1;32m<ipython-input-23-fb5fb1a2a427>\u001b[0m in \u001b[0;36m<module>\u001b[1;34m\u001b[0m\n\u001b[1;32m----> 1\u001b[1;33m \u001b[0mals\u001b[0m\u001b[1;33m.\u001b[0m\u001b[0mfit\u001b[0m\u001b[1;33m(\u001b[0m\u001b[0mgame_user_sparse\u001b[0m\u001b[1;33m)\u001b[0m\u001b[1;33m\u001b[0m\u001b[1;33m\u001b[0m\u001b[0m\n\u001b[0m",
      "\u001b[1;32mc:\\Users\\Chris\\Documents\\College\\Spring-2020\\Artificial-Intelligence\\cs4100-project\\env\\lib\\site-packages\\implicit\\als.py\u001b[0m in \u001b[0;36mfit\u001b[1;34m(self, item_users, show_progress)\u001b[0m\n\u001b[0;32m    177\u001b[0m \u001b[1;33m\u001b[0m\u001b[0m\n\u001b[0;32m    178\u001b[0m         \u001b[1;32mif\u001b[0m \u001b[0mself\u001b[0m\u001b[1;33m.\u001b[0m\u001b[0muse_gpu\u001b[0m\u001b[1;33m:\u001b[0m\u001b[1;33m\u001b[0m\u001b[1;33m\u001b[0m\u001b[0m\n\u001b[1;32m--> 179\u001b[1;33m             \u001b[1;32mreturn\u001b[0m \u001b[0mself\u001b[0m\u001b[1;33m.\u001b[0m\u001b[0m_fit_gpu\u001b[0m\u001b[1;33m(\u001b[0m\u001b[0mCiu\u001b[0m\u001b[1;33m,\u001b[0m \u001b[0mCui\u001b[0m\u001b[1;33m,\u001b[0m \u001b[0mvali_user_items\u001b[0m\u001b[1;33m,\u001b[0m \u001b[0mshow_progress\u001b[0m\u001b[1;33m)\u001b[0m\u001b[1;33m\u001b[0m\u001b[1;33m\u001b[0m\u001b[0m\n\u001b[0m\u001b[0;32m    180\u001b[0m \u001b[1;33m\u001b[0m\u001b[0m\n\u001b[0;32m    181\u001b[0m         \u001b[0msolver\u001b[0m \u001b[1;33m=\u001b[0m \u001b[0mself\u001b[0m\u001b[1;33m.\u001b[0m\u001b[0msolver\u001b[0m\u001b[1;33m\u001b[0m\u001b[1;33m\u001b[0m\u001b[0m\n",
      "\u001b[1;32mc:\\Users\\Chris\\Documents\\College\\Spring-2020\\Artificial-Intelligence\\cs4100-project\\env\\lib\\site-packages\\implicit\\als.py\u001b[0m in \u001b[0;36m_fit_gpu\u001b[1;34m(self, Ciu_host, Cui_host, vali_user_items, show_progress)\u001b[0m\n\u001b[0;32m    224\u001b[0m             \u001b[0mself\u001b[0m\u001b[1;33m.\u001b[0m\u001b[0muser_factors\u001b[0m \u001b[1;33m=\u001b[0m \u001b[0mself\u001b[0m\u001b[1;33m.\u001b[0m\u001b[0muser_factors\u001b[0m\u001b[1;33m.\u001b[0m\u001b[0mastype\u001b[0m\u001b[1;33m(\u001b[0m\u001b[0mnp\u001b[0m\u001b[1;33m.\u001b[0m\u001b[0mfloat32\u001b[0m\u001b[1;33m)\u001b[0m\u001b[1;33m\u001b[0m\u001b[1;33m\u001b[0m\u001b[0m\n\u001b[0;32m    225\u001b[0m \u001b[1;33m\u001b[0m\u001b[0m\n\u001b[1;32m--> 226\u001b[1;33m         \u001b[0mCiu\u001b[0m \u001b[1;33m=\u001b[0m \u001b[0mimplicit\u001b[0m\u001b[1;33m.\u001b[0m\u001b[0mcuda\u001b[0m\u001b[1;33m.\u001b[0m\u001b[0mCuCSRMatrix\u001b[0m\u001b[1;33m(\u001b[0m\u001b[0mCiu_host\u001b[0m\u001b[1;33m)\u001b[0m\u001b[1;33m\u001b[0m\u001b[1;33m\u001b[0m\u001b[0m\n\u001b[0m\u001b[0;32m    227\u001b[0m         \u001b[0mCui\u001b[0m \u001b[1;33m=\u001b[0m \u001b[0mimplicit\u001b[0m\u001b[1;33m.\u001b[0m\u001b[0mcuda\u001b[0m\u001b[1;33m.\u001b[0m\u001b[0mCuCSRMatrix\u001b[0m\u001b[1;33m(\u001b[0m\u001b[0mCui_host\u001b[0m\u001b[1;33m)\u001b[0m\u001b[1;33m\u001b[0m\u001b[1;33m\u001b[0m\u001b[0m\n\u001b[0;32m    228\u001b[0m         \u001b[0mX\u001b[0m \u001b[1;33m=\u001b[0m \u001b[0mimplicit\u001b[0m\u001b[1;33m.\u001b[0m\u001b[0mcuda\u001b[0m\u001b[1;33m.\u001b[0m\u001b[0mCuDenseMatrix\u001b[0m\u001b[1;33m(\u001b[0m\u001b[0mself\u001b[0m\u001b[1;33m.\u001b[0m\u001b[0muser_factors\u001b[0m\u001b[1;33m.\u001b[0m\u001b[0mastype\u001b[0m\u001b[1;33m(\u001b[0m\u001b[0mnp\u001b[0m\u001b[1;33m.\u001b[0m\u001b[0mfloat32\u001b[0m\u001b[1;33m)\u001b[0m\u001b[1;33m)\u001b[0m\u001b[1;33m\u001b[0m\u001b[1;33m\u001b[0m\u001b[0m\n",
      "\u001b[1;32mimplicit/cuda/_cuda.pyx\u001b[0m in \u001b[0;36mimplicit.cuda._cuda.CuCSRMatrix.__cinit__\u001b[1;34m()\u001b[0m\n",
      "\u001b[1;31mRuntimeError\u001b[0m: Cuda Error: unknown error (implicit/cuda/matrix.cu:47)"
     ]
    }
   ],
   "source": [
    "als.fit(game_user_sparse)"
   ]
  },
  {
   "cell_type": "code",
   "execution_count": 30,
   "metadata": {},
   "outputs": [
    {
     "output_type": "execute_result",
     "data": {
      "text/plain": "      0         1                       original  coded\n0   361  0.765361         Call of Duty Black Ops    361\n1   370  0.567266  Call of Duty Modern Warfare 2    370\n2   372  0.395861  Call of Duty Modern Warfare 3    372\n3  1719  0.382153                         Portal   1719\n4   876  0.372286              Fallout New Vegas    876\n5  1426  0.371800          Medieval II Total War   1426\n6  1903  0.340836                 Rome Total War   1903\n7   227  0.312294      Battlefield Bad Company 2    227\n8  2286  0.306539                Team Fortress 2   2286\n9   697  0.300643                         Dota 2    697",
      "text/html": "<div>\n<style scoped>\n    .dataframe tbody tr th:only-of-type {\n        vertical-align: middle;\n    }\n\n    .dataframe tbody tr th {\n        vertical-align: top;\n    }\n\n    .dataframe thead th {\n        text-align: right;\n    }\n</style>\n<table border=\"1\" class=\"dataframe\">\n  <thead>\n    <tr style=\"text-align: right;\">\n      <th></th>\n      <th>0</th>\n      <th>1</th>\n      <th>original</th>\n      <th>coded</th>\n    </tr>\n  </thead>\n  <tbody>\n    <tr>\n      <th>0</th>\n      <td>361</td>\n      <td>0.765361</td>\n      <td>Call of Duty Black Ops</td>\n      <td>361</td>\n    </tr>\n    <tr>\n      <th>1</th>\n      <td>370</td>\n      <td>0.567266</td>\n      <td>Call of Duty Modern Warfare 2</td>\n      <td>370</td>\n    </tr>\n    <tr>\n      <th>2</th>\n      <td>372</td>\n      <td>0.395861</td>\n      <td>Call of Duty Modern Warfare 3</td>\n      <td>372</td>\n    </tr>\n    <tr>\n      <th>3</th>\n      <td>1719</td>\n      <td>0.382153</td>\n      <td>Portal</td>\n      <td>1719</td>\n    </tr>\n    <tr>\n      <th>4</th>\n      <td>876</td>\n      <td>0.372286</td>\n      <td>Fallout New Vegas</td>\n      <td>876</td>\n    </tr>\n    <tr>\n      <th>5</th>\n      <td>1426</td>\n      <td>0.371800</td>\n      <td>Medieval II Total War</td>\n      <td>1426</td>\n    </tr>\n    <tr>\n      <th>6</th>\n      <td>1903</td>\n      <td>0.340836</td>\n      <td>Rome Total War</td>\n      <td>1903</td>\n    </tr>\n    <tr>\n      <th>7</th>\n      <td>227</td>\n      <td>0.312294</td>\n      <td>Battlefield Bad Company 2</td>\n      <td>227</td>\n    </tr>\n    <tr>\n      <th>8</th>\n      <td>2286</td>\n      <td>0.306539</td>\n      <td>Team Fortress 2</td>\n      <td>2286</td>\n    </tr>\n    <tr>\n      <th>9</th>\n      <td>697</td>\n      <td>0.300643</td>\n      <td>Dota 2</td>\n      <td>697</td>\n    </tr>\n  </tbody>\n</table>\n</div>"
     },
     "metadata": {},
     "execution_count": 30
    }
   ],
   "source": [
    "pd.DataFrame(als.recommend(0, user_game_sparse)).merge(game_coding, left_on=0, right_on=\"coded\")"
   ]
  },
  {
   "cell_type": "code",
   "execution_count": 36,
   "metadata": {},
   "outputs": [
    {
     "output_type": "execute_result",
     "data": {
      "text/plain": "       user_id                      game_name  amount  norm_amount\n1029     76767         Call of Duty Black Ops    22.0     0.057692\n2049     76767  Call of Duty Modern Warfare 2    65.0     0.175824\n6112     76767           Thief Deadly Shadows     3.4     0.006593\n10243    76767  Call of Duty Modern Warfare 3    15.9     0.040934",
      "text/html": "<div>\n<style scoped>\n    .dataframe tbody tr th:only-of-type {\n        vertical-align: middle;\n    }\n\n    .dataframe tbody tr th {\n        vertical-align: top;\n    }\n\n    .dataframe thead th {\n        text-align: right;\n    }\n</style>\n<table border=\"1\" class=\"dataframe\">\n  <thead>\n    <tr style=\"text-align: right;\">\n      <th></th>\n      <th>user_id</th>\n      <th>game_name</th>\n      <th>amount</th>\n      <th>norm_amount</th>\n    </tr>\n  </thead>\n  <tbody>\n    <tr>\n      <th>1029</th>\n      <td>76767</td>\n      <td>Call of Duty Black Ops</td>\n      <td>22.0</td>\n      <td>0.057692</td>\n    </tr>\n    <tr>\n      <th>2049</th>\n      <td>76767</td>\n      <td>Call of Duty Modern Warfare 2</td>\n      <td>65.0</td>\n      <td>0.175824</td>\n    </tr>\n    <tr>\n      <th>6112</th>\n      <td>76767</td>\n      <td>Thief Deadly Shadows</td>\n      <td>3.4</td>\n      <td>0.006593</td>\n    </tr>\n    <tr>\n      <th>10243</th>\n      <td>76767</td>\n      <td>Call of Duty Modern Warfare 3</td>\n      <td>15.9</td>\n      <td>0.040934</td>\n    </tr>\n  </tbody>\n</table>\n</div>"
     },
     "metadata": {},
     "execution_count": 36
    }
   ],
   "source": [
    "test[test['user_id'] == 76767]"
   ]
  },
  {
   "cell_type": "code",
   "execution_count": 18,
   "metadata": {},
   "outputs": [
    {
     "output_type": "execute_result",
     "data": {
      "text/plain": "       original  coded\n0          5250      0\n1         76767      1\n2         86540      2\n3        229911      3\n4        298950      4\n...         ...    ...\n2431  303129589   2431\n2432  303525289   2432\n2433  304971849   2433\n2434  306971738   2434\n2435  309404240   2435\n\n[2436 rows x 2 columns]",
      "text/html": "<div>\n<style scoped>\n    .dataframe tbody tr th:only-of-type {\n        vertical-align: middle;\n    }\n\n    .dataframe tbody tr th {\n        vertical-align: top;\n    }\n\n    .dataframe thead th {\n        text-align: right;\n    }\n</style>\n<table border=\"1\" class=\"dataframe\">\n  <thead>\n    <tr style=\"text-align: right;\">\n      <th></th>\n      <th>original</th>\n      <th>coded</th>\n    </tr>\n  </thead>\n  <tbody>\n    <tr>\n      <th>0</th>\n      <td>5250</td>\n      <td>0</td>\n    </tr>\n    <tr>\n      <th>1</th>\n      <td>76767</td>\n      <td>1</td>\n    </tr>\n    <tr>\n      <th>2</th>\n      <td>86540</td>\n      <td>2</td>\n    </tr>\n    <tr>\n      <th>3</th>\n      <td>229911</td>\n      <td>3</td>\n    </tr>\n    <tr>\n      <th>4</th>\n      <td>298950</td>\n      <td>4</td>\n    </tr>\n    <tr>\n      <th>...</th>\n      <td>...</td>\n      <td>...</td>\n    </tr>\n    <tr>\n      <th>2431</th>\n      <td>303129589</td>\n      <td>2431</td>\n    </tr>\n    <tr>\n      <th>2432</th>\n      <td>303525289</td>\n      <td>2432</td>\n    </tr>\n    <tr>\n      <th>2433</th>\n      <td>304971849</td>\n      <td>2433</td>\n    </tr>\n    <tr>\n      <th>2434</th>\n      <td>306971738</td>\n      <td>2434</td>\n    </tr>\n    <tr>\n      <th>2435</th>\n      <td>309404240</td>\n      <td>2435</td>\n    </tr>\n  </tbody>\n</table>\n<p>2436 rows × 2 columns</p>\n</div>"
     },
     "metadata": {},
     "execution_count": 18
    }
   ],
   "source": [
    "user_coding"
   ]
  },
  {
   "cell_type": "code",
   "execution_count": 20,
   "metadata": {},
   "outputs": [
    {
     "output_type": "execute_result",
     "data": {
      "text/plain": "       user_id                                    game_name  amount  \\\n1963     76767                               Counter-Strike   365.0   \n2183     76767  Call of Duty Modern Warfare 2 - Multiplayer   165.0   \n6680     76767                                     Portal 2    15.0   \n9267     76767                 Age of Empires II HD Edition    13.1   \n9885     76767                Call of Duty Modern Warfare 3    15.9   \n13573    76767              Counter-Strike Global Offensive     3.5   \n24743    76767                                    Half-Life     1.2   \n25296    76767                                     Banished    24.0   \n31445    76767                             Total War ATTILA   207.0   \n32628    76767                         Thief Deadly Shadows     3.4   \n35364    76767                             Worms Armageddon     0.4   \n38138    76767                Call of Duty Modern Warfare 2    65.0   \n39812    76767                          The Stanley Parable     1.8   \n40620    76767         Call of Duty Black Ops - Multiplayer    12.5   \n\n       norm_amount  \n1963      0.075821  \n2183      0.138191  \n6680      0.020690  \n9267      0.019208  \n9885      0.034120  \n13573     0.000751  \n24743     0.018182  \n25296     0.058537  \n31445     0.495215  \n32628     0.257576  \n35364     0.020000  \n38138     0.137131  \n39812     0.051429  \n40620     0.006572  ",
      "text/html": "<div>\n<style scoped>\n    .dataframe tbody tr th:only-of-type {\n        vertical-align: middle;\n    }\n\n    .dataframe tbody tr th {\n        vertical-align: top;\n    }\n\n    .dataframe thead th {\n        text-align: right;\n    }\n</style>\n<table border=\"1\" class=\"dataframe\">\n  <thead>\n    <tr style=\"text-align: right;\">\n      <th></th>\n      <th>user_id</th>\n      <th>game_name</th>\n      <th>amount</th>\n      <th>norm_amount</th>\n    </tr>\n  </thead>\n  <tbody>\n    <tr>\n      <th>1963</th>\n      <td>76767</td>\n      <td>Counter-Strike</td>\n      <td>365.0</td>\n      <td>0.075821</td>\n    </tr>\n    <tr>\n      <th>2183</th>\n      <td>76767</td>\n      <td>Call of Duty Modern Warfare 2 - Multiplayer</td>\n      <td>165.0</td>\n      <td>0.138191</td>\n    </tr>\n    <tr>\n      <th>6680</th>\n      <td>76767</td>\n      <td>Portal 2</td>\n      <td>15.0</td>\n      <td>0.020690</td>\n    </tr>\n    <tr>\n      <th>9267</th>\n      <td>76767</td>\n      <td>Age of Empires II HD Edition</td>\n      <td>13.1</td>\n      <td>0.019208</td>\n    </tr>\n    <tr>\n      <th>9885</th>\n      <td>76767</td>\n      <td>Call of Duty Modern Warfare 3</td>\n      <td>15.9</td>\n      <td>0.034120</td>\n    </tr>\n    <tr>\n      <th>13573</th>\n      <td>76767</td>\n      <td>Counter-Strike Global Offensive</td>\n      <td>3.5</td>\n      <td>0.000751</td>\n    </tr>\n    <tr>\n      <th>24743</th>\n      <td>76767</td>\n      <td>Half-Life</td>\n      <td>1.2</td>\n      <td>0.018182</td>\n    </tr>\n    <tr>\n      <th>25296</th>\n      <td>76767</td>\n      <td>Banished</td>\n      <td>24.0</td>\n      <td>0.058537</td>\n    </tr>\n    <tr>\n      <th>31445</th>\n      <td>76767</td>\n      <td>Total War ATTILA</td>\n      <td>207.0</td>\n      <td>0.495215</td>\n    </tr>\n    <tr>\n      <th>32628</th>\n      <td>76767</td>\n      <td>Thief Deadly Shadows</td>\n      <td>3.4</td>\n      <td>0.257576</td>\n    </tr>\n    <tr>\n      <th>35364</th>\n      <td>76767</td>\n      <td>Worms Armageddon</td>\n      <td>0.4</td>\n      <td>0.020000</td>\n    </tr>\n    <tr>\n      <th>38138</th>\n      <td>76767</td>\n      <td>Call of Duty Modern Warfare 2</td>\n      <td>65.0</td>\n      <td>0.137131</td>\n    </tr>\n    <tr>\n      <th>39812</th>\n      <td>76767</td>\n      <td>The Stanley Parable</td>\n      <td>1.8</td>\n      <td>0.051429</td>\n    </tr>\n    <tr>\n      <th>40620</th>\n      <td>76767</td>\n      <td>Call of Duty Black Ops - Multiplayer</td>\n      <td>12.5</td>\n      <td>0.006572</td>\n    </tr>\n  </tbody>\n</table>\n</div>"
     },
     "metadata": {},
     "execution_count": 20
    }
   ],
   "source": [
    "train[train['user_id'] == 76767]"
   ]
  },
  {
   "cell_type": "code",
   "execution_count": null,
   "metadata": {},
   "outputs": [],
   "source": []
  }
 ]
}