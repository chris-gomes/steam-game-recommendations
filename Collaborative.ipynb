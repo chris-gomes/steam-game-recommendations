{
 "cells": [
  {
   "cell_type": "markdown",
   "metadata": {},
   "source": [
    "# Collaborative Filtering Recommendations using Original Values"
   ]
  },
  {
   "cell_type": "code",
   "execution_count": 1,
   "metadata": {},
   "outputs": [],
   "source": [
    "import pandas as pd\n",
    "import numpy as np\n",
    "import implicit\n",
    "\n",
    "from matplotlib import pyplot as plt\n",
    "from scipy.sparse import csr_matrix"
   ]
  },
  {
   "cell_type": "code",
   "execution_count": 2,
   "metadata": {},
   "outputs": [],
   "source": [
    "train = pd.read_csv(\"data\\\\train-plays.csv\")\n",
    "test = pd.read_csv(\"data\\\\test-plays.csv\")\n",
    "game_coding = pd.read_csv(\"data\\\\game-coding.csv\")"
   ]
  },
  {
   "cell_type": "code",
   "execution_count": 3,
   "metadata": {},
   "outputs": [
    {
     "data": {
      "text/plain": [
       "36447"
      ]
     },
     "execution_count": 3,
     "metadata": {},
     "output_type": "execute_result"
    }
   ],
   "source": [
    "train.shape[0]"
   ]
  },
  {
   "cell_type": "markdown",
   "metadata": {},
   "source": [
    "## Format training data"
   ]
  },
  {
   "cell_type": "code",
   "execution_count": 4,
   "metadata": {},
   "outputs": [],
   "source": [
    "game_user = train.pivot(index=\"game_id\", columns=\"user_id\", values=\"amount\")"
   ]
  },
  {
   "cell_type": "code",
   "execution_count": 5,
   "metadata": {},
   "outputs": [],
   "source": [
    "game_user = game_user.fillna(0)"
   ]
  },
  {
   "cell_type": "code",
   "execution_count": 79,
   "metadata": {},
   "outputs": [],
   "source": [
    "user_coding = pd.DataFrame({\"original\":game_user.columns, \"coded\":np.arange(game_user.columns.size)})"
   ]
  },
  {
   "cell_type": "code",
   "execution_count": 6,
   "metadata": {},
   "outputs": [],
   "source": [
    "game_user_sparse = csr_matrix(game_user)"
   ]
  },
  {
   "cell_type": "code",
   "execution_count": 7,
   "metadata": {},
   "outputs": [],
   "source": [
    "user_game = game_user.T"
   ]
  },
  {
   "cell_type": "code",
   "execution_count": 8,
   "metadata": {},
   "outputs": [],
   "source": [
    "user_game_sparse = csr_matrix(user_game)"
   ]
  },
  {
   "cell_type": "code",
   "execution_count": 9,
   "metadata": {},
   "outputs": [],
   "source": [
    "user_ids = train['user_id'].unique()"
   ]
  },
  {
   "cell_type": "code",
   "execution_count": 26,
   "metadata": {},
   "outputs": [
    {
     "data": {
      "text/plain": [
       "96.98755248454393"
      ]
     },
     "execution_count": 26,
     "metadata": {},
     "output_type": "execute_result"
    }
   ],
   "source": [
    "matrix_size = game_user_sparse.shape[0] * game_user_sparse.shape[1] # Number of possible interactions in the matrix\n",
    "num_played = len(game_user_sparse.nonzero()[0]) # Number of items interacted with\n",
    "sparsity = 100 * (1 - (num_played / matrix_size))\n",
    "sparsity"
   ]
  },
  {
   "cell_type": "markdown",
   "metadata": {},
   "source": [
    "## Alternating Least Squares"
   ]
  },
  {
   "cell_type": "code",
   "execution_count": 351,
   "metadata": {},
   "outputs": [],
   "source": [
    "als = implicit.als.AlternatingLeastSquares(128, 0.05, iterations=50)"
   ]
  },
  {
   "cell_type": "code",
   "execution_count": 352,
   "metadata": {},
   "outputs": [
    {
     "data": {
      "application/vnd.jupyter.widget-view+json": {
       "model_id": "c4969e8bb2c74823aaeac27592d49704",
       "version_major": 2,
       "version_minor": 0
      },
      "text/plain": [
       "HBox(children=(IntProgress(value=0, max=50), HTML(value='')))"
      ]
     },
     "metadata": {},
     "output_type": "display_data"
    },
    {
     "name": "stdout",
     "output_type": "stream",
     "text": [
      "\n"
     ]
    }
   ],
   "source": [
    "als.fit(game_user_sparse)"
   ]
  },
  {
   "cell_type": "code",
   "execution_count": 353,
   "metadata": {},
   "outputs": [],
   "source": [
    "# rows_list = list()\n",
    "# games_recommended = set()\n",
    "# for user_id in user_ids:\n",
    "#     results_dict = dict()\n",
    "#     results_dict['user_id'] = user_id\n",
    "#     test_df = test[test['user_id'] == user_id]\n",
    "#     recommendations_df = pd.DataFrame(als.recommend(user_id, user_game_sparse))\n",
    "#     recommended = test_df.merge(recommendations_df, left_on=\"game_id\", right_on=0)\n",
    "#     results_dict['num_recommended'] = recommended.shape[0]\n",
    "#     results_dict['total_to_recommend'] = test_df.shape[0]\n",
    "#     rows_list.append(results_dict)\n",
    "#     games_recommended.update(recommended[\"game_id\"].unique())"
   ]
  },
  {
   "cell_type": "code",
   "execution_count": 354,
   "metadata": {
    "scrolled": true
   },
   "outputs": [
    {
     "data": {
      "application/vnd.jupyter.widget-view+json": {
       "model_id": "0b7b3144b48d4606b9e468d72aceca9c",
       "version_major": 2,
       "version_minor": 0
      },
      "text/plain": [
       "HBox(children=(IntProgress(value=0, max=1160), HTML(value='')))"
      ]
     },
     "metadata": {},
     "output_type": "display_data"
    },
    {
     "name": "stdout",
     "output_type": "stream",
     "text": [
      "\n"
     ]
    }
   ],
   "source": [
    "game_recs = np.ndarray.flatten(als.recommend_all(user_game_sparse))\n",
    "user_10 = np.repeat(user_game.index, 10)\n",
    "recommendations = pd.DataFrame({\"user_id\":user_10, \"game_id\":game_recs})"
   ]
  },
  {
   "cell_type": "code",
   "execution_count": 355,
   "metadata": {},
   "outputs": [],
   "source": [
    "results = recommendations.merge(test, on=\"user_id\")"
   ]
  },
  {
   "cell_type": "code",
   "execution_count": 356,
   "metadata": {},
   "outputs": [],
   "source": [
    "results['recommended'] = np.where(results.game_id_x == results.game_id_y, 1, 0)"
   ]
  },
  {
   "cell_type": "code",
   "execution_count": 357,
   "metadata": {
    "scrolled": true
   },
   "outputs": [
    {
     "data": {
      "text/plain": [
       "0.1810344827586207"
      ]
     },
     "execution_count": 357,
     "metadata": {},
     "output_type": "execute_result"
    }
   ],
   "source": [
    "# accuracy\n",
    "results[results.recommended == 1].shape[0] / test.shape[0]"
   ]
  },
  {
   "cell_type": "code",
   "execution_count": 358,
   "metadata": {},
   "outputs": [
    {
     "data": {
      "text/plain": [
       "0.7363374880153404"
      ]
     },
     "execution_count": 358,
     "metadata": {},
     "output_type": "execute_result"
    }
   ],
   "source": [
    "# % of games recommended\n",
    "np.unique(game_recs).size / train.game_id.unique().size"
   ]
  },
  {
   "cell_type": "code",
   "execution_count": 95,
   "metadata": {},
   "outputs": [
    {
     "name": "stdout",
     "output_type": "stream",
     "text": [
      "1    Portal 2\n",
      "Name: game_name, dtype: object\n",
      "841    Portal Stories Mel\n",
      "Name: game_name, dtype: object\n",
      "493    Thinking with Time Machine\n",
      "Name: game_name, dtype: object\n",
      "23    Portal\n",
      "Name: game_name, dtype: object\n",
      "61    Divinity Original Sin Enhanced Edition\n",
      "Name: game_name, dtype: object\n",
      "288    Ricochet\n",
      "Name: game_name, dtype: object\n",
      "897    Pool Nation\n",
      "Name: game_name, dtype: object\n",
      "316    LIMBO\n",
      "Name: game_name, dtype: object\n",
      "267    Magic 2015\n",
      "Name: game_name, dtype: object\n",
      "957    Tactical Intervention\n",
      "Name: game_name, dtype: object\n"
     ]
    }
   ],
   "source": [
    "similar = als.similar_items(1, 10)\n",
    "for sim in similar:\n",
    "    idx, score = sim\n",
    "    print(game_coding[game_coding['game_id'] == idx]['game_name'])"
   ]
  },
  {
   "cell_type": "code",
   "execution_count": 64,
   "metadata": {},
   "outputs": [
    {
     "data": {
      "text/html": [
       "<div>\n",
       "<style scoped>\n",
       "    .dataframe tbody tr th:only-of-type {\n",
       "        vertical-align: middle;\n",
       "    }\n",
       "\n",
       "    .dataframe tbody tr th {\n",
       "        vertical-align: top;\n",
       "    }\n",
       "\n",
       "    .dataframe thead th {\n",
       "        text-align: right;\n",
       "    }\n",
       "</style>\n",
       "<table border=\"1\" class=\"dataframe\">\n",
       "  <thead>\n",
       "    <tr style=\"text-align: right;\">\n",
       "      <th></th>\n",
       "      <th>amount</th>\n",
       "      <th>norm_amount</th>\n",
       "      <th>game_id</th>\n",
       "      <th>user_id</th>\n",
       "    </tr>\n",
       "  </thead>\n",
       "  <tbody>\n",
       "    <tr>\n",
       "      <th>0</th>\n",
       "      <td>9.7</td>\n",
       "      <td>0.005493</td>\n",
       "      <td>9</td>\n",
       "      <td>0</td>\n",
       "    </tr>\n",
       "    <tr>\n",
       "      <th>1</th>\n",
       "      <td>15.9</td>\n",
       "      <td>0.095210</td>\n",
       "      <td>8</td>\n",
       "      <td>0</td>\n",
       "    </tr>\n",
       "    <tr>\n",
       "      <th>2</th>\n",
       "      <td>271.0</td>\n",
       "      <td>0.801775</td>\n",
       "      <td>10</td>\n",
       "      <td>0</td>\n",
       "    </tr>\n",
       "    <tr>\n",
       "      <th>3</th>\n",
       "      <td>13.1</td>\n",
       "      <td>0.019208</td>\n",
       "      <td>2</td>\n",
       "      <td>0</td>\n",
       "    </tr>\n",
       "    <tr>\n",
       "      <th>4</th>\n",
       "      <td>24.0</td>\n",
       "      <td>0.060150</td>\n",
       "      <td>3</td>\n",
       "      <td>0</td>\n",
       "    </tr>\n",
       "  </tbody>\n",
       "</table>\n",
       "</div>"
      ],
      "text/plain": [
       "   amount  norm_amount  game_id  user_id\n",
       "0     9.7     0.005493        9        0\n",
       "1    15.9     0.095210        8        0\n",
       "2   271.0     0.801775       10        0\n",
       "3    13.1     0.019208        2        0\n",
       "4    24.0     0.060150        3        0"
      ]
     },
     "execution_count": 64,
     "metadata": {},
     "output_type": "execute_result"
    }
   ],
   "source": [
    "train.head()"
   ]
  },
  {
   "cell_type": "code",
   "execution_count": 134,
   "metadata": {},
   "outputs": [
    {
     "data": {
      "text/html": [
       "<div>\n",
       "<style scoped>\n",
       "    .dataframe tbody tr th:only-of-type {\n",
       "        vertical-align: middle;\n",
       "    }\n",
       "\n",
       "    .dataframe tbody tr th {\n",
       "        vertical-align: top;\n",
       "    }\n",
       "\n",
       "    .dataframe thead th {\n",
       "        text-align: right;\n",
       "    }\n",
       "</style>\n",
       "<table border=\"1\" class=\"dataframe\">\n",
       "  <thead>\n",
       "    <tr style=\"text-align: right;\">\n",
       "      <th></th>\n",
       "      <th>amount</th>\n",
       "      <th>norm_amount</th>\n",
       "      <th>game_id</th>\n",
       "      <th>user_id</th>\n",
       "      <th>rank</th>\n",
       "    </tr>\n",
       "  </thead>\n",
       "  <tbody>\n",
       "    <tr>\n",
       "      <th>14974</th>\n",
       "      <td>725.0</td>\n",
       "      <td>1.0</td>\n",
       "      <td>1</td>\n",
       "      <td>276</td>\n",
       "      <td>1.0</td>\n",
       "    </tr>\n",
       "  </tbody>\n",
       "</table>\n",
       "</div>"
      ],
      "text/plain": [
       "       amount  norm_amount  game_id  user_id  rank\n",
       "14974   725.0          1.0        1      276   1.0"
      ]
     },
     "execution_count": 134,
     "metadata": {},
     "output_type": "execute_result"
    }
   ],
   "source": [
    "train['rank'] = train.groupby(['user_id'])['norm_amount'].rank(ascending = False)\n",
    "\n",
    "# filtering for their first choice\n",
    "train_1  = train[train['rank'] == 1]\n",
    "\n",
    "\n",
    "# Users with portal as their first choice\n",
    "train_1[train_1['game_id'] == 1].head()"
   ]
  },
  {
   "cell_type": "code",
   "execution_count": 135,
   "metadata": {},
   "outputs": [
    {
     "data": {
      "text/html": [
       "<div>\n",
       "<style scoped>\n",
       "    .dataframe tbody tr th:only-of-type {\n",
       "        vertical-align: middle;\n",
       "    }\n",
       "\n",
       "    .dataframe tbody tr th {\n",
       "        vertical-align: top;\n",
       "    }\n",
       "\n",
       "    .dataframe thead th {\n",
       "        text-align: right;\n",
       "    }\n",
       "</style>\n",
       "<table border=\"1\" class=\"dataframe\">\n",
       "  <thead>\n",
       "    <tr style=\"text-align: right;\">\n",
       "      <th></th>\n",
       "      <th>amount</th>\n",
       "      <th>norm_amount</th>\n",
       "      <th>game_id</th>\n",
       "      <th>user_id</th>\n",
       "      <th>rank</th>\n",
       "    </tr>\n",
       "  </thead>\n",
       "  <tbody>\n",
       "    <tr>\n",
       "      <th>14974</th>\n",
       "      <td>725.0</td>\n",
       "      <td>1.000000</td>\n",
       "      <td>1</td>\n",
       "      <td>276</td>\n",
       "      <td>1.0</td>\n",
       "    </tr>\n",
       "    <tr>\n",
       "      <th>14975</th>\n",
       "      <td>3.8</td>\n",
       "      <td>0.090476</td>\n",
       "      <td>333</td>\n",
       "      <td>276</td>\n",
       "      <td>7.0</td>\n",
       "    </tr>\n",
       "    <tr>\n",
       "      <th>14976</th>\n",
       "      <td>1.1</td>\n",
       "      <td>0.004867</td>\n",
       "      <td>785</td>\n",
       "      <td>276</td>\n",
       "      <td>9.0</td>\n",
       "    </tr>\n",
       "    <tr>\n",
       "      <th>14977</th>\n",
       "      <td>369.0</td>\n",
       "      <td>0.770355</td>\n",
       "      <td>116</td>\n",
       "      <td>276</td>\n",
       "      <td>2.0</td>\n",
       "    </tr>\n",
       "    <tr>\n",
       "      <th>14978</th>\n",
       "      <td>6.7</td>\n",
       "      <td>0.008839</td>\n",
       "      <td>20</td>\n",
       "      <td>276</td>\n",
       "      <td>8.0</td>\n",
       "    </tr>\n",
       "    <tr>\n",
       "      <th>14979</th>\n",
       "      <td>8.1</td>\n",
       "      <td>0.188372</td>\n",
       "      <td>168</td>\n",
       "      <td>276</td>\n",
       "      <td>6.0</td>\n",
       "    </tr>\n",
       "    <tr>\n",
       "      <th>14980</th>\n",
       "      <td>32.0</td>\n",
       "      <td>0.477612</td>\n",
       "      <td>211</td>\n",
       "      <td>276</td>\n",
       "      <td>4.0</td>\n",
       "    </tr>\n",
       "    <tr>\n",
       "      <th>14981</th>\n",
       "      <td>9.9</td>\n",
       "      <td>0.538043</td>\n",
       "      <td>841</td>\n",
       "      <td>276</td>\n",
       "      <td>3.0</td>\n",
       "    </tr>\n",
       "    <tr>\n",
       "      <th>14982</th>\n",
       "      <td>32.0</td>\n",
       "      <td>0.307692</td>\n",
       "      <td>27</td>\n",
       "      <td>276</td>\n",
       "      <td>5.0</td>\n",
       "    </tr>\n",
       "  </tbody>\n",
       "</table>\n",
       "</div>"
      ],
      "text/plain": [
       "       amount  norm_amount  game_id  user_id  rank\n",
       "14974   725.0     1.000000        1      276   1.0\n",
       "14975     3.8     0.090476      333      276   7.0\n",
       "14976     1.1     0.004867      785      276   9.0\n",
       "14977   369.0     0.770355      116      276   2.0\n",
       "14978     6.7     0.008839       20      276   8.0\n",
       "14979     8.1     0.188372      168      276   6.0\n",
       "14980    32.0     0.477612      211      276   4.0\n",
       "14981     9.9     0.538043      841      276   3.0\n",
       "14982    32.0     0.307692       27      276   5.0"
      ]
     },
     "execution_count": 135,
     "metadata": {},
     "output_type": "execute_result"
    }
   ],
   "source": [
    "train[train['user_id'] == 276].head(10)"
   ]
  },
  {
   "cell_type": "code",
   "execution_count": 137,
   "metadata": {},
   "outputs": [
    {
     "name": "stdout",
     "output_type": "stream",
     "text": [
      "0.05086206896551724\n"
     ]
    }
   ],
   "source": [
    "from collections import Counter\n",
    "\n",
    "num_correct = 0\n",
    "total = 0\n",
    "for i in range(0, len(user_coding.index)):\n",
    "    user_id = user_coding[user_coding['coded'] == i]['original'][i]\n",
    "    user_df = train[train['user_id'] == user_id]\n",
    "    num_rows = len(user_df.index)\n",
    "    res_dict = dict()\n",
    "    for idx, row in user_df.iterrows():\n",
    "        weight = len(user_df.index) - row['rank'] + 1\n",
    "        game_id = row['game_id'].astype('int')\n",
    "        similar = als.similar_items(game_id, 10)\n",
    "        for sim in similar:\n",
    "            idx, score = sim\n",
    "            if idx in res_dict:\n",
    "                res_dict[idx] = res_dict[idx] + (1 * weight)\n",
    "            else:\n",
    "                res_dict[idx] = (1 * weight)\n",
    "    train_ids = user_df.game_id.unique()\n",
    "    to_del = list()\n",
    "    for k in res_dict.keys():\n",
    "        if k in train_ids:\n",
    "            to_del.append(k)\n",
    "    for k in to_del:\n",
    "        del res_dict[k]\n",
    "    recs = list(dict(Counter(res_dict).most_common(10)).keys())\n",
    "    \n",
    "    total = total + 1\n",
    "    test_id = test[test['user_id'] == user_id]['game_id'][i]\n",
    "    if test_id in recs:\n",
    "        num_correct = num_correct + 1\n",
    "        \n",
    "print(num_correct / total)"
   ]
  },
  {
   "cell_type": "markdown",
   "metadata": {},
   "source": [
    "# Bayesian Personalized Ranking"
   ]
  },
  {
   "cell_type": "code",
   "execution_count": 373,
   "metadata": {},
   "outputs": [],
   "source": [
    "bpr = implicit.bpr.BayesianPersonalizedRanking(128, 0.01, 0.05, iterations=200)"
   ]
  },
  {
   "cell_type": "code",
   "execution_count": 374,
   "metadata": {},
   "outputs": [
    {
     "data": {
      "application/vnd.jupyter.widget-view+json": {
       "model_id": "d8b1d62abe554e8da4443ce2e7862b4a",
       "version_major": 2,
       "version_minor": 0
      },
      "text/plain": [
       "HBox(children=(IntProgress(value=0, max=200), HTML(value='')))"
      ]
     },
     "metadata": {},
     "output_type": "display_data"
    },
    {
     "name": "stdout",
     "output_type": "stream",
     "text": [
      "\n"
     ]
    }
   ],
   "source": [
    "bpr.fit(game_user_sparse)"
   ]
  },
  {
   "cell_type": "code",
   "execution_count": 375,
   "metadata": {
    "scrolled": true
   },
   "outputs": [
    {
     "data": {
      "application/vnd.jupyter.widget-view+json": {
       "model_id": "1dc8c35e1eb04a099b09e49699d4343d",
       "version_major": 2,
       "version_minor": 0
      },
      "text/plain": [
       "HBox(children=(IntProgress(value=0, max=1160), HTML(value='')))"
      ]
     },
     "metadata": {},
     "output_type": "display_data"
    },
    {
     "name": "stdout",
     "output_type": "stream",
     "text": [
      "\n"
     ]
    }
   ],
   "source": [
    "game_recs = np.ndarray.flatten(bpr.recommend_all(user_game_sparse))\n",
    "user_10 = np.repeat(user_game.index, 10)\n",
    "recommendations = pd.DataFrame({\"user_id\":user_10, \"game_id\":game_recs})"
   ]
  },
  {
   "cell_type": "code",
   "execution_count": 376,
   "metadata": {},
   "outputs": [],
   "source": [
    "results = recommendations.merge(test, on=\"user_id\")"
   ]
  },
  {
   "cell_type": "code",
   "execution_count": 377,
   "metadata": {},
   "outputs": [],
   "source": [
    "results['recommended'] = np.where(results.game_id_x == results.game_id_y, 1, 0)"
   ]
  },
  {
   "cell_type": "code",
   "execution_count": 378,
   "metadata": {},
   "outputs": [
    {
     "data": {
      "text/plain": [
       "0.1896551724137931"
      ]
     },
     "execution_count": 378,
     "metadata": {},
     "output_type": "execute_result"
    }
   ],
   "source": [
    "# accuracy\n",
    "results[results.recommended == 1].shape[0] / test.shape[0]"
   ]
  },
  {
   "cell_type": "code",
   "execution_count": 379,
   "metadata": {},
   "outputs": [
    {
     "data": {
      "text/plain": [
       "0.9817833173537871"
      ]
     },
     "execution_count": 379,
     "metadata": {},
     "output_type": "execute_result"
    }
   ],
   "source": [
    "# % of games recommended\n",
    "np.unique(game_recs).size / train.game_id.unique().size"
   ]
  },
  {
   "cell_type": "markdown",
   "metadata": {},
   "source": [
    "# Logistic Matrix Factorization"
   ]
  },
  {
   "cell_type": "code",
   "execution_count": 344,
   "metadata": {},
   "outputs": [],
   "source": [
    "lmf = implicit.lmf.LogisticMatrixFactorization(128)"
   ]
  },
  {
   "cell_type": "code",
   "execution_count": 345,
   "metadata": {},
   "outputs": [
    {
     "data": {
      "application/vnd.jupyter.widget-view+json": {
       "model_id": "b5c7517cc7e546dd8b6d24f59249a8af",
       "version_major": 2,
       "version_minor": 0
      },
      "text/plain": [
       "HBox(children=(IntProgress(value=0, max=30), HTML(value='')))"
      ]
     },
     "metadata": {},
     "output_type": "display_data"
    },
    {
     "name": "stdout",
     "output_type": "stream",
     "text": [
      "\n",
      "0.85 2.0 30\n"
     ]
    }
   ],
   "source": [
    "lmf.fit(game_user_sparse)\n",
    "print(lmf.learning_rate, lmf.regularization, lmf.iterations)"
   ]
  },
  {
   "cell_type": "code",
   "execution_count": 346,
   "metadata": {},
   "outputs": [
    {
     "data": {
      "application/vnd.jupyter.widget-view+json": {
       "model_id": "3f27deea0387495ba465f3021f34425b",
       "version_major": 2,
       "version_minor": 0
      },
      "text/plain": [
       "HBox(children=(IntProgress(value=0, max=1160), HTML(value='')))"
      ]
     },
     "metadata": {},
     "output_type": "display_data"
    },
    {
     "name": "stdout",
     "output_type": "stream",
     "text": [
      "\n"
     ]
    }
   ],
   "source": [
    "game_recs = np.ndarray.flatten(lmf.recommend_all(user_game_sparse))\n",
    "user_10 = np.repeat(user_game.index, 10)\n",
    "recommendations = pd.DataFrame({\"user_id\":user_10, \"game_id\":game_recs})"
   ]
  },
  {
   "cell_type": "code",
   "execution_count": 347,
   "metadata": {},
   "outputs": [],
   "source": [
    "results = recommendations.merge(test, on=\"user_id\")"
   ]
  },
  {
   "cell_type": "code",
   "execution_count": 348,
   "metadata": {},
   "outputs": [],
   "source": [
    "results['recommended'] = np.where(results.game_id_x == results.game_id_y, 1, 0)"
   ]
  },
  {
   "cell_type": "code",
   "execution_count": 349,
   "metadata": {},
   "outputs": [
    {
     "data": {
      "text/plain": [
       "0.056896551724137934"
      ]
     },
     "execution_count": 349,
     "metadata": {},
     "output_type": "execute_result"
    }
   ],
   "source": [
    "# accuracy\n",
    "results[results.recommended == 1].shape[0] / test.shape[0]"
   ]
  },
  {
   "cell_type": "code",
   "execution_count": 350,
   "metadata": {},
   "outputs": [
    {
     "data": {
      "text/plain": [
       "0.009587727708533078"
      ]
     },
     "execution_count": 350,
     "metadata": {},
     "output_type": "execute_result"
    }
   ],
   "source": [
    "# % of games recommended\n",
    "np.unique(game_recs).size / train.game_id.unique().size"
   ]
  }
 ],
 "metadata": {
  "file_extension": ".py",
  "kernelspec": {
   "display_name": "Python 3",
   "language": "python",
   "name": "python3"
  },
  "language_info": {
   "codemirror_mode": {
    "name": "ipython",
    "version": 3
   },
   "file_extension": ".py",
   "mimetype": "text/x-python",
   "name": "python",
   "nbconvert_exporter": "python",
   "pygments_lexer": "ipython3",
   "version": "3.7.3"
  },
  "mimetype": "text/x-python",
  "name": "python",
  "npconvert_exporter": "python",
  "pygments_lexer": "ipython3",
  "version": 3
 },
 "nbformat": 4,
 "nbformat_minor": 2
}
