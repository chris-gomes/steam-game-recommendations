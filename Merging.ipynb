{
 "nbformat": 4,
 "nbformat_minor": 2,
 "metadata": {
  "language_info": {
   "name": "python",
   "codemirror_mode": {
    "name": "ipython",
    "version": 3
   },
   "version": "3.7.4-final"
  },
  "orig_nbformat": 2,
  "file_extension": ".py",
  "mimetype": "text/x-python",
  "name": "python",
  "npconvert_exporter": "python",
  "pygments_lexer": "ipython3",
  "version": 3,
  "kernelspec": {
   "name": "ad97b4d3-3603-42ea-a3a9-d85602907d4d",
   "display_name": "'Python Interactive'"
  }
 },
 "cells": [
  {
   "cell_type": "code",
   "execution_count": 82,
   "metadata": {},
   "outputs": [],
   "source": [
    "import pandas as pd\n",
    "import numpy as np"
   ]
  },
  {
   "cell_type": "code",
   "execution_count": 126,
   "metadata": {},
   "outputs": [],
   "source": [
    "game_info = pd.read_csv(\"data\\\\steam.csv\")"
   ]
  },
  {
   "cell_type": "code",
   "execution_count": 127,
   "metadata": {},
   "outputs": [],
   "source": [
    "user_behavior = pd.read_csv(\"data\\\\steam-200k.csv\", header=None).drop(columns=4)\n",
    "user_behavior.columns = [\"user_id\", \"game_name\", \"behavior\", \"amount\"]"
   ]
  },
  {
   "cell_type": "code",
   "execution_count": 128,
   "metadata": {},
   "outputs": [],
   "source": [
    "# user_actions[\"mod_game_name\"] = user_actions[\"game_name\"].str.lower()\n",
    "user_behavior[\"mod_game_name\"] = user_behavior[\"game_name\"].str.replace(\" \", \"\")\n",
    "user_behavior[\"mod_game_name\"] = user_behavior[\"mod_game_name\"].str.replace(\":\", \"\")\n",
    "user_behavior[\"mod_game_name\"] = user_behavior[\"mod_game_name\"].str.replace(\"-\", \"\")"
   ]
  },
  {
   "cell_type": "code",
   "execution_count": 129,
   "metadata": {},
   "outputs": [],
   "source": [
    "# game_info[\"mod_game_name\"] = game_info[\"name\"].str.lower()\n",
    "game_info[\"mod_game_name\"] = game_info[\"name\"].str.replace(\" \", \"\")\n",
    "game_info[\"mod_game_name\"] = game_info[\"mod_game_name\"].str.replace(\":\", \"\")\n",
    "game_info[\"mod_game_name\"] = game_info[\"mod_game_name\"].str.replace(\"-\", \"\")"
   ]
  },
  {
   "cell_type": "code",
   "execution_count": 130,
   "metadata": {},
   "outputs": [],
   "source": [
    "all_info = user_actions.merge(game_info, on=\"mod_game_name\", how=\"left\")"
   ]
  },
  {
   "cell_type": "code",
   "execution_count": 131,
   "metadata": {},
   "outputs": [
    {
     "data": {
      "text/plain": "array(['Spore', 'Dead Island Epidemic',\n       'SEGA Genesis & Mega Drive Classics', ...,\n       'Tesla Breaks the World! Official Soundtrack',\n       'Romance of the Three Kingdoms Maker', 'Space Colony'],\n      dtype=object)"
     },
     "execution_count": 131,
     "metadata": {},
     "output_type": "execute_result"
    }
   ],
   "source": [
    "all_info[all_info[\"name\"].isnull()][\"game_name\"].unique()"
   ]
  },
  {
   "cell_type": "code",
   "execution_count": 132,
   "metadata": {},
   "outputs": [
    {
     "data": {
      "text/html": "<div>\n<style scoped>\n    .dataframe tbody tr th:only-of-type {\n        vertical-align: middle;\n    }\n\n    .dataframe tbody tr th {\n        vertical-align: top;\n    }\n\n    .dataframe thead th {\n        text-align: right;\n    }\n</style>\n<table border=\"1\" class=\"dataframe\">\n  <thead>\n    <tr style=\"text-align: right;\">\n      <th></th>\n      <th>appid</th>\n      <th>name</th>\n      <th>release_date</th>\n      <th>english</th>\n      <th>developer</th>\n      <th>publisher</th>\n      <th>platforms</th>\n      <th>required_age</th>\n      <th>categories</th>\n      <th>genres</th>\n      <th>steamspy_tags</th>\n      <th>achievements</th>\n      <th>positive_ratings</th>\n      <th>negative_ratings</th>\n      <th>average_playtime</th>\n      <th>median_playtime</th>\n      <th>owners</th>\n      <th>price</th>\n      <th>mod_game_name</th>\n    </tr>\n  </thead>\n  <tbody>\n  </tbody>\n</table>\n</div>",
      "text/plain": "Empty DataFrame\nColumns: [appid, name, release_date, english, developer, publisher, platforms, required_age, categories, genres, steamspy_tags, achievements, positive_ratings, negative_ratings, average_playtime, median_playtime, owners, price, mod_game_name]\nIndex: []"
     },
     "execution_count": 132,
     "metadata": {},
     "output_type": "execute_result"
    }
   ],
   "source": [
    "game_info[game_info['name'].str.contains(\"Dead Island Epidemic\")]"
   ]
  },
  {
   "cell_type": "code",
   "execution_count": 133,
   "metadata": {},
   "outputs": [
    {
     "data": {
      "text/html": "<div>\n<style scoped>\n    .dataframe tbody tr th:only-of-type {\n        vertical-align: middle;\n    }\n\n    .dataframe tbody tr th {\n        vertical-align: top;\n    }\n\n    .dataframe thead th {\n        text-align: right;\n    }\n</style>\n<table border=\"1\" class=\"dataframe\">\n  <thead>\n    <tr style=\"text-align: right;\">\n      <th></th>\n      <th>user_id</th>\n      <th>game_name</th>\n      <th>action</th>\n      <th>amount</th>\n      <th>mod_game_name</th>\n      <th>appid</th>\n      <th>name</th>\n      <th>release_date</th>\n      <th>english</th>\n      <th>developer</th>\n      <th>...</th>\n      <th>categories</th>\n      <th>genres</th>\n      <th>steamspy_tags</th>\n      <th>achievements</th>\n      <th>positive_ratings</th>\n      <th>negative_ratings</th>\n      <th>average_playtime</th>\n      <th>median_playtime</th>\n      <th>owners</th>\n      <th>price</th>\n    </tr>\n  </thead>\n  <tbody>\n    <tr>\n      <td>0</td>\n      <td>151603712</td>\n      <td>The Elder Scrolls V Skyrim</td>\n      <td>purchase</td>\n      <td>1.0</td>\n      <td>TheElderScrollsVSkyrim</td>\n      <td>72850.0</td>\n      <td>The Elder Scrolls V: Skyrim</td>\n      <td>2011-11-10</td>\n      <td>1.0</td>\n      <td>Bethesda Game Studios</td>\n      <td>...</td>\n      <td>Single-player;Steam Achievements;Steam Trading...</td>\n      <td>RPG</td>\n      <td>Open World;RPG;Fantasy</td>\n      <td>75.0</td>\n      <td>237303.0</td>\n      <td>14951.0</td>\n      <td>7089.0</td>\n      <td>3885.0</td>\n      <td>10000000-20000000</td>\n      <td>9.99</td>\n    </tr>\n    <tr>\n      <td>1</td>\n      <td>151603712</td>\n      <td>The Elder Scrolls V Skyrim</td>\n      <td>play</td>\n      <td>273.0</td>\n      <td>TheElderScrollsVSkyrim</td>\n      <td>72850.0</td>\n      <td>The Elder Scrolls V: Skyrim</td>\n      <td>2011-11-10</td>\n      <td>1.0</td>\n      <td>Bethesda Game Studios</td>\n      <td>...</td>\n      <td>Single-player;Steam Achievements;Steam Trading...</td>\n      <td>RPG</td>\n      <td>Open World;RPG;Fantasy</td>\n      <td>75.0</td>\n      <td>237303.0</td>\n      <td>14951.0</td>\n      <td>7089.0</td>\n      <td>3885.0</td>\n      <td>10000000-20000000</td>\n      <td>9.99</td>\n    </tr>\n    <tr>\n      <td>2</td>\n      <td>151603712</td>\n      <td>Fallout 4</td>\n      <td>purchase</td>\n      <td>1.0</td>\n      <td>Fallout4</td>\n      <td>377160.0</td>\n      <td>Fallout 4</td>\n      <td>2015-11-09</td>\n      <td>1.0</td>\n      <td>Bethesda Game Studios</td>\n      <td>...</td>\n      <td>Single-player;Steam Achievements;Full controll...</td>\n      <td>RPG</td>\n      <td>Open World;Post-apocalyptic;Exploration</td>\n      <td>84.0</td>\n      <td>110376.0</td>\n      <td>45377.0</td>\n      <td>4822.0</td>\n      <td>2904.0</td>\n      <td>5000000-10000000</td>\n      <td>19.99</td>\n    </tr>\n    <tr>\n      <td>3</td>\n      <td>151603712</td>\n      <td>Fallout 4</td>\n      <td>play</td>\n      <td>87.0</td>\n      <td>Fallout4</td>\n      <td>377160.0</td>\n      <td>Fallout 4</td>\n      <td>2015-11-09</td>\n      <td>1.0</td>\n      <td>Bethesda Game Studios</td>\n      <td>...</td>\n      <td>Single-player;Steam Achievements;Full controll...</td>\n      <td>RPG</td>\n      <td>Open World;Post-apocalyptic;Exploration</td>\n      <td>84.0</td>\n      <td>110376.0</td>\n      <td>45377.0</td>\n      <td>4822.0</td>\n      <td>2904.0</td>\n      <td>5000000-10000000</td>\n      <td>19.99</td>\n    </tr>\n    <tr>\n      <td>4</td>\n      <td>151603712</td>\n      <td>Spore</td>\n      <td>purchase</td>\n      <td>1.0</td>\n      <td>Spore</td>\n      <td>NaN</td>\n      <td>NaN</td>\n      <td>NaN</td>\n      <td>NaN</td>\n      <td>NaN</td>\n      <td>...</td>\n      <td>NaN</td>\n      <td>NaN</td>\n      <td>NaN</td>\n      <td>NaN</td>\n      <td>NaN</td>\n      <td>NaN</td>\n      <td>NaN</td>\n      <td>NaN</td>\n      <td>NaN</td>\n      <td>NaN</td>\n    </tr>\n    <tr>\n      <td>...</td>\n      <td>...</td>\n      <td>...</td>\n      <td>...</td>\n      <td>...</td>\n      <td>...</td>\n      <td>...</td>\n      <td>...</td>\n      <td>...</td>\n      <td>...</td>\n      <td>...</td>\n      <td>...</td>\n      <td>...</td>\n      <td>...</td>\n      <td>...</td>\n      <td>...</td>\n      <td>...</td>\n      <td>...</td>\n      <td>...</td>\n      <td>...</td>\n      <td>...</td>\n      <td>...</td>\n    </tr>\n    <tr>\n      <td>200056</td>\n      <td>128470551</td>\n      <td>Grand Theft Auto Vice City</td>\n      <td>play</td>\n      <td>1.5</td>\n      <td>GrandTheftAutoViceCity</td>\n      <td>12110.0</td>\n      <td>Grand Theft Auto: Vice City</td>\n      <td>2011-01-10</td>\n      <td>1.0</td>\n      <td>Rockstar Games</td>\n      <td>...</td>\n      <td>Single-player;Partial Controller Support</td>\n      <td>Action</td>\n      <td>Open World;Action;1980s</td>\n      <td>0.0</td>\n      <td>9817.0</td>\n      <td>819.0</td>\n      <td>209.0</td>\n      <td>93.0</td>\n      <td>2000000-5000000</td>\n      <td>5.99</td>\n    </tr>\n    <tr>\n      <td>200057</td>\n      <td>128470551</td>\n      <td>RUSH</td>\n      <td>purchase</td>\n      <td>1.0</td>\n      <td>RUSH</td>\n      <td>38720.0</td>\n      <td>RUSH</td>\n      <td>2010-12-03</td>\n      <td>1.0</td>\n      <td>Two Tribes</td>\n      <td>...</td>\n      <td>Single-player;Steam Achievements;Steam Cloud</td>\n      <td>Casual;Indie;Strategy</td>\n      <td>Puzzle;Indie;Casual</td>\n      <td>25.0</td>\n      <td>1069.0</td>\n      <td>117.0</td>\n      <td>53.0</td>\n      <td>56.0</td>\n      <td>200000-500000</td>\n      <td>3.99</td>\n    </tr>\n    <tr>\n      <td>200058</td>\n      <td>128470551</td>\n      <td>RUSH</td>\n      <td>purchase</td>\n      <td>1.0</td>\n      <td>RUSH</td>\n      <td>844040.0</td>\n      <td>RUSH</td>\n      <td>2018-07-13</td>\n      <td>1.0</td>\n      <td>The Binary Mill</td>\n      <td>...</td>\n      <td>Single-player;Multi-player;Online Multi-Player...</td>\n      <td>Action;Racing;Simulation;Sports</td>\n      <td>Action;Simulation;Racing</td>\n      <td>16.0</td>\n      <td>64.0</td>\n      <td>9.0</td>\n      <td>0.0</td>\n      <td>0.0</td>\n      <td>20000-50000</td>\n      <td>15.49</td>\n    </tr>\n    <tr>\n      <td>200059</td>\n      <td>128470551</td>\n      <td>RUSH</td>\n      <td>play</td>\n      <td>1.4</td>\n      <td>RUSH</td>\n      <td>38720.0</td>\n      <td>RUSH</td>\n      <td>2010-12-03</td>\n      <td>1.0</td>\n      <td>Two Tribes</td>\n      <td>...</td>\n      <td>Single-player;Steam Achievements;Steam Cloud</td>\n      <td>Casual;Indie;Strategy</td>\n      <td>Puzzle;Indie;Casual</td>\n      <td>25.0</td>\n      <td>1069.0</td>\n      <td>117.0</td>\n      <td>53.0</td>\n      <td>56.0</td>\n      <td>200000-500000</td>\n      <td>3.99</td>\n    </tr>\n    <tr>\n      <td>200060</td>\n      <td>128470551</td>\n      <td>RUSH</td>\n      <td>play</td>\n      <td>1.4</td>\n      <td>RUSH</td>\n      <td>844040.0</td>\n      <td>RUSH</td>\n      <td>2018-07-13</td>\n      <td>1.0</td>\n      <td>The Binary Mill</td>\n      <td>...</td>\n      <td>Single-player;Multi-player;Online Multi-Player...</td>\n      <td>Action;Racing;Simulation;Sports</td>\n      <td>Action;Simulation;Racing</td>\n      <td>16.0</td>\n      <td>64.0</td>\n      <td>9.0</td>\n      <td>0.0</td>\n      <td>0.0</td>\n      <td>20000-50000</td>\n      <td>15.49</td>\n    </tr>\n  </tbody>\n</table>\n<p>200061 rows × 23 columns</p>\n</div>",
      "text/plain": "          user_id                   game_name    action  amount  \\\n0       151603712  The Elder Scrolls V Skyrim  purchase     1.0   \n1       151603712  The Elder Scrolls V Skyrim      play   273.0   \n2       151603712                   Fallout 4  purchase     1.0   \n3       151603712                   Fallout 4      play    87.0   \n4       151603712                       Spore  purchase     1.0   \n...           ...                         ...       ...     ...   \n200056  128470551  Grand Theft Auto Vice City      play     1.5   \n200057  128470551                        RUSH  purchase     1.0   \n200058  128470551                        RUSH  purchase     1.0   \n200059  128470551                        RUSH      play     1.4   \n200060  128470551                        RUSH      play     1.4   \n\n                 mod_game_name     appid                         name  \\\n0       TheElderScrollsVSkyrim   72850.0  The Elder Scrolls V: Skyrim   \n1       TheElderScrollsVSkyrim   72850.0  The Elder Scrolls V: Skyrim   \n2                     Fallout4  377160.0                    Fallout 4   \n3                     Fallout4  377160.0                    Fallout 4   \n4                        Spore       NaN                          NaN   \n...                        ...       ...                          ...   \n200056  GrandTheftAutoViceCity   12110.0  Grand Theft Auto: Vice City   \n200057                    RUSH   38720.0                         RUSH   \n200058                    RUSH  844040.0                         RUSH   \n200059                    RUSH   38720.0                         RUSH   \n200060                    RUSH  844040.0                         RUSH   \n\n       release_date  english              developer  ...  \\\n0        2011-11-10      1.0  Bethesda Game Studios  ...   \n1        2011-11-10      1.0  Bethesda Game Studios  ...   \n2        2015-11-09      1.0  Bethesda Game Studios  ...   \n3        2015-11-09      1.0  Bethesda Game Studios  ...   \n4               NaN      NaN                    NaN  ...   \n...             ...      ...                    ...  ...   \n200056   2011-01-10      1.0         Rockstar Games  ...   \n200057   2010-12-03      1.0             Two Tribes  ...   \n200058   2018-07-13      1.0        The Binary Mill  ...   \n200059   2010-12-03      1.0             Two Tribes  ...   \n200060   2018-07-13      1.0        The Binary Mill  ...   \n\n                                               categories  \\\n0       Single-player;Steam Achievements;Steam Trading...   \n1       Single-player;Steam Achievements;Steam Trading...   \n2       Single-player;Steam Achievements;Full controll...   \n3       Single-player;Steam Achievements;Full controll...   \n4                                                     NaN   \n...                                                   ...   \n200056           Single-player;Partial Controller Support   \n200057       Single-player;Steam Achievements;Steam Cloud   \n200058  Single-player;Multi-player;Online Multi-Player...   \n200059       Single-player;Steam Achievements;Steam Cloud   \n200060  Single-player;Multi-player;Online Multi-Player...   \n\n                                 genres  \\\n0                                   RPG   \n1                                   RPG   \n2                                   RPG   \n3                                   RPG   \n4                                   NaN   \n...                                 ...   \n200056                           Action   \n200057            Casual;Indie;Strategy   \n200058  Action;Racing;Simulation;Sports   \n200059            Casual;Indie;Strategy   \n200060  Action;Racing;Simulation;Sports   \n\n                                  steamspy_tags achievements positive_ratings  \\\n0                        Open World;RPG;Fantasy         75.0         237303.0   \n1                        Open World;RPG;Fantasy         75.0         237303.0   \n2       Open World;Post-apocalyptic;Exploration         84.0         110376.0   \n3       Open World;Post-apocalyptic;Exploration         84.0         110376.0   \n4                                           NaN          NaN              NaN   \n...                                         ...          ...              ...   \n200056                  Open World;Action;1980s          0.0           9817.0   \n200057                      Puzzle;Indie;Casual         25.0           1069.0   \n200058                 Action;Simulation;Racing         16.0             64.0   \n200059                      Puzzle;Indie;Casual         25.0           1069.0   \n200060                 Action;Simulation;Racing         16.0             64.0   \n\n       negative_ratings  average_playtime  median_playtime             owners  \\\n0               14951.0            7089.0           3885.0  10000000-20000000   \n1               14951.0            7089.0           3885.0  10000000-20000000   \n2               45377.0            4822.0           2904.0   5000000-10000000   \n3               45377.0            4822.0           2904.0   5000000-10000000   \n4                   NaN               NaN              NaN                NaN   \n...                 ...               ...              ...                ...   \n200056            819.0             209.0             93.0    2000000-5000000   \n200057            117.0              53.0             56.0      200000-500000   \n200058              9.0               0.0              0.0        20000-50000   \n200059            117.0              53.0             56.0      200000-500000   \n200060              9.0               0.0              0.0        20000-50000   \n\n        price  \n0        9.99  \n1        9.99  \n2       19.99  \n3       19.99  \n4         NaN  \n...       ...  \n200056   5.99  \n200057   3.99  \n200058  15.49  \n200059   3.99  \n200060  15.49  \n\n[200061 rows x 23 columns]"
     },
     "execution_count": 133,
     "metadata": {},
     "output_type": "execute_result"
    }
   ],
   "source": [
    "all_info"
   ]
  },
  {
   "cell_type": "code",
   "execution_count": null,
   "metadata": {},
   "outputs": [],
   "source": []
  }
 ]
}