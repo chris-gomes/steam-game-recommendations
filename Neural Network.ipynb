{
 "nbformat": 4,
 "nbformat_minor": 2,
 "metadata": {
  "language_info": {
   "name": "python",
   "codemirror_mode": {
    "name": "ipython",
    "version": 3
   },
   "version": "3.7.4-final"
  },
  "orig_nbformat": 2,
  "file_extension": ".py",
  "mimetype": "text/x-python",
  "name": "python",
  "npconvert_exporter": "python",
  "pygments_lexer": "ipython3",
  "version": 3,
  "kernelspec": {
   "name": "python37464bitenvvirtualenv134144d15e934197ba684dd19abdd03c",
   "display_name": "Python 3.7.4 64-bit ('env': virtualenv)"
  }
 },
 "cells": [
  {
   "cell_type": "code",
   "execution_count": 2,
   "metadata": {},
   "outputs": [],
   "source": [
    "import pandas as pd\n",
    "import numpy as np\n",
    "import tensorflow as tf"
   ]
  },
  {
   "cell_type": "code",
   "execution_count": 3,
   "metadata": {},
   "outputs": [],
   "source": [
    "train = pd.read_csv(\"data\\\\train-plays.csv\")\n",
    "test = pd.read_csv(\"data\\\\test-plays.csv\")"
   ]
  },
  {
   "cell_type": "code",
   "execution_count": 6,
   "metadata": {},
   "outputs": [
    {
     "output_type": "execute_result",
     "data": {
      "text/plain": "         user_id game_name  amount  norm_amount\n25027  112986636  Banished     0.1     0.000251\n19954   84513749  Banished     0.2     0.000501\n31301  162288536  Banished     0.3     0.000752\n112       298950  Banished     0.6     0.001504\n19146   81170946  Banished     0.7     0.001754\n24160  106986812  Banished     0.7     0.001754\n4749    24469287  Banished     1.0     0.002506\n22043   95037089  Banished     1.0     0.002506\n8890    43684632  Banished     1.1     0.002757\n30322  155718820  Banished     1.3     0.003258\n25166  113580708  Banished     1.6     0.004010\n2672    12610800  Banished     1.7     0.004261\n5637    30061970  Banished     2.0     0.005013\n24450  108454875  Banished     2.4     0.006015\n13870   59756932  Banished     2.8     0.007018\n15942   66078954  Banished     3.3     0.008271\n23906  105503045  Banished     3.3     0.008271\n32670  175447188  Banished     4.5     0.011278\n19589   82352462  Banished     5.6     0.014035\n23787  105384518  Banished     6.1     0.015288\n16366   67729331  Banished     6.2     0.015539\n23214  101690993  Banished     6.8     0.017043\n35421  241862248  Banished     7.1     0.017794\n2030    11373749  Banished     7.2     0.018045\n10021   47384303  Banished     7.6     0.019048\n791      5990132  Banished     8.5     0.021303\n13585   58905429  Banished    10.3     0.025815\n12308   54293428  Banished    11.1     0.027820\n31489  163896673  Banished    12.8     0.032080\n23915  105725769  Banished    14.6     0.036591\n3742    17995238  Banished    15.0     0.037594\n1379     9823354  Banished    15.2     0.038095\n20388   86469479  Banished    17.3     0.043358\n31795  166604341  Banished    19.4     0.048622\n13093   57368001  Banished    19.6     0.049123\n30876  159424645  Banished    19.9     0.049875\n13290   58217836  Banished    20.0     0.050125\n22996  101212067  Banished    20.0     0.050125\n5859    30440303  Banished    22.0     0.055138\n11969   53091150  Banished    23.0     0.057644\n16124   66650717  Banished    23.0     0.057644\n32504  174002551  Banished    23.0     0.057644\n6952    34177747  Banished    23.0     0.057644\n8          76767  Banished    24.0     0.060150\n27453  127850470  Banished    30.0     0.075188\n19186   81439192  Banished    33.0     0.082707\n11055   49630184  Banished    39.0     0.097744\n18315   77980915  Banished    39.0     0.097744\n6258    32126281  Banished    42.0     0.105263\n15596   65315657  Banished    44.0     0.110276\n21845   94088853  Banished    45.0     0.112782\n21432   92393218  Banished    48.0     0.120301\n21173   90272527  Banished    49.0     0.122807\n13908   59825286  Banished    62.0     0.155388\n9036    43955374  Banished    64.0     0.160401\n1732    10599862  Banished    67.0     0.167920\n21547   92612763  Banished    78.0     0.195489\n29143  143877335  Banished    94.0     0.235589\n32878  180753437  Banished   399.0     1.000000",
      "text/html": "<div>\n<style scoped>\n    .dataframe tbody tr th:only-of-type {\n        vertical-align: middle;\n    }\n\n    .dataframe tbody tr th {\n        vertical-align: top;\n    }\n\n    .dataframe thead th {\n        text-align: right;\n    }\n</style>\n<table border=\"1\" class=\"dataframe\">\n  <thead>\n    <tr style=\"text-align: right;\">\n      <th></th>\n      <th>user_id</th>\n      <th>game_name</th>\n      <th>amount</th>\n      <th>norm_amount</th>\n    </tr>\n  </thead>\n  <tbody>\n    <tr>\n      <th>25027</th>\n      <td>112986636</td>\n      <td>Banished</td>\n      <td>0.1</td>\n      <td>0.000251</td>\n    </tr>\n    <tr>\n      <th>19954</th>\n      <td>84513749</td>\n      <td>Banished</td>\n      <td>0.2</td>\n      <td>0.000501</td>\n    </tr>\n    <tr>\n      <th>31301</th>\n      <td>162288536</td>\n      <td>Banished</td>\n      <td>0.3</td>\n      <td>0.000752</td>\n    </tr>\n    <tr>\n      <th>112</th>\n      <td>298950</td>\n      <td>Banished</td>\n      <td>0.6</td>\n      <td>0.001504</td>\n    </tr>\n    <tr>\n      <th>19146</th>\n      <td>81170946</td>\n      <td>Banished</td>\n      <td>0.7</td>\n      <td>0.001754</td>\n    </tr>\n    <tr>\n      <th>24160</th>\n      <td>106986812</td>\n      <td>Banished</td>\n      <td>0.7</td>\n      <td>0.001754</td>\n    </tr>\n    <tr>\n      <th>4749</th>\n      <td>24469287</td>\n      <td>Banished</td>\n      <td>1.0</td>\n      <td>0.002506</td>\n    </tr>\n    <tr>\n      <th>22043</th>\n      <td>95037089</td>\n      <td>Banished</td>\n      <td>1.0</td>\n      <td>0.002506</td>\n    </tr>\n    <tr>\n      <th>8890</th>\n      <td>43684632</td>\n      <td>Banished</td>\n      <td>1.1</td>\n      <td>0.002757</td>\n    </tr>\n    <tr>\n      <th>30322</th>\n      <td>155718820</td>\n      <td>Banished</td>\n      <td>1.3</td>\n      <td>0.003258</td>\n    </tr>\n    <tr>\n      <th>25166</th>\n      <td>113580708</td>\n      <td>Banished</td>\n      <td>1.6</td>\n      <td>0.004010</td>\n    </tr>\n    <tr>\n      <th>2672</th>\n      <td>12610800</td>\n      <td>Banished</td>\n      <td>1.7</td>\n      <td>0.004261</td>\n    </tr>\n    <tr>\n      <th>5637</th>\n      <td>30061970</td>\n      <td>Banished</td>\n      <td>2.0</td>\n      <td>0.005013</td>\n    </tr>\n    <tr>\n      <th>24450</th>\n      <td>108454875</td>\n      <td>Banished</td>\n      <td>2.4</td>\n      <td>0.006015</td>\n    </tr>\n    <tr>\n      <th>13870</th>\n      <td>59756932</td>\n      <td>Banished</td>\n      <td>2.8</td>\n      <td>0.007018</td>\n    </tr>\n    <tr>\n      <th>15942</th>\n      <td>66078954</td>\n      <td>Banished</td>\n      <td>3.3</td>\n      <td>0.008271</td>\n    </tr>\n    <tr>\n      <th>23906</th>\n      <td>105503045</td>\n      <td>Banished</td>\n      <td>3.3</td>\n      <td>0.008271</td>\n    </tr>\n    <tr>\n      <th>32670</th>\n      <td>175447188</td>\n      <td>Banished</td>\n      <td>4.5</td>\n      <td>0.011278</td>\n    </tr>\n    <tr>\n      <th>19589</th>\n      <td>82352462</td>\n      <td>Banished</td>\n      <td>5.6</td>\n      <td>0.014035</td>\n    </tr>\n    <tr>\n      <th>23787</th>\n      <td>105384518</td>\n      <td>Banished</td>\n      <td>6.1</td>\n      <td>0.015288</td>\n    </tr>\n    <tr>\n      <th>16366</th>\n      <td>67729331</td>\n      <td>Banished</td>\n      <td>6.2</td>\n      <td>0.015539</td>\n    </tr>\n    <tr>\n      <th>23214</th>\n      <td>101690993</td>\n      <td>Banished</td>\n      <td>6.8</td>\n      <td>0.017043</td>\n    </tr>\n    <tr>\n      <th>35421</th>\n      <td>241862248</td>\n      <td>Banished</td>\n      <td>7.1</td>\n      <td>0.017794</td>\n    </tr>\n    <tr>\n      <th>2030</th>\n      <td>11373749</td>\n      <td>Banished</td>\n      <td>7.2</td>\n      <td>0.018045</td>\n    </tr>\n    <tr>\n      <th>10021</th>\n      <td>47384303</td>\n      <td>Banished</td>\n      <td>7.6</td>\n      <td>0.019048</td>\n    </tr>\n    <tr>\n      <th>791</th>\n      <td>5990132</td>\n      <td>Banished</td>\n      <td>8.5</td>\n      <td>0.021303</td>\n    </tr>\n    <tr>\n      <th>13585</th>\n      <td>58905429</td>\n      <td>Banished</td>\n      <td>10.3</td>\n      <td>0.025815</td>\n    </tr>\n    <tr>\n      <th>12308</th>\n      <td>54293428</td>\n      <td>Banished</td>\n      <td>11.1</td>\n      <td>0.027820</td>\n    </tr>\n    <tr>\n      <th>31489</th>\n      <td>163896673</td>\n      <td>Banished</td>\n      <td>12.8</td>\n      <td>0.032080</td>\n    </tr>\n    <tr>\n      <th>23915</th>\n      <td>105725769</td>\n      <td>Banished</td>\n      <td>14.6</td>\n      <td>0.036591</td>\n    </tr>\n    <tr>\n      <th>3742</th>\n      <td>17995238</td>\n      <td>Banished</td>\n      <td>15.0</td>\n      <td>0.037594</td>\n    </tr>\n    <tr>\n      <th>1379</th>\n      <td>9823354</td>\n      <td>Banished</td>\n      <td>15.2</td>\n      <td>0.038095</td>\n    </tr>\n    <tr>\n      <th>20388</th>\n      <td>86469479</td>\n      <td>Banished</td>\n      <td>17.3</td>\n      <td>0.043358</td>\n    </tr>\n    <tr>\n      <th>31795</th>\n      <td>166604341</td>\n      <td>Banished</td>\n      <td>19.4</td>\n      <td>0.048622</td>\n    </tr>\n    <tr>\n      <th>13093</th>\n      <td>57368001</td>\n      <td>Banished</td>\n      <td>19.6</td>\n      <td>0.049123</td>\n    </tr>\n    <tr>\n      <th>30876</th>\n      <td>159424645</td>\n      <td>Banished</td>\n      <td>19.9</td>\n      <td>0.049875</td>\n    </tr>\n    <tr>\n      <th>13290</th>\n      <td>58217836</td>\n      <td>Banished</td>\n      <td>20.0</td>\n      <td>0.050125</td>\n    </tr>\n    <tr>\n      <th>22996</th>\n      <td>101212067</td>\n      <td>Banished</td>\n      <td>20.0</td>\n      <td>0.050125</td>\n    </tr>\n    <tr>\n      <th>5859</th>\n      <td>30440303</td>\n      <td>Banished</td>\n      <td>22.0</td>\n      <td>0.055138</td>\n    </tr>\n    <tr>\n      <th>11969</th>\n      <td>53091150</td>\n      <td>Banished</td>\n      <td>23.0</td>\n      <td>0.057644</td>\n    </tr>\n    <tr>\n      <th>16124</th>\n      <td>66650717</td>\n      <td>Banished</td>\n      <td>23.0</td>\n      <td>0.057644</td>\n    </tr>\n    <tr>\n      <th>32504</th>\n      <td>174002551</td>\n      <td>Banished</td>\n      <td>23.0</td>\n      <td>0.057644</td>\n    </tr>\n    <tr>\n      <th>6952</th>\n      <td>34177747</td>\n      <td>Banished</td>\n      <td>23.0</td>\n      <td>0.057644</td>\n    </tr>\n    <tr>\n      <th>8</th>\n      <td>76767</td>\n      <td>Banished</td>\n      <td>24.0</td>\n      <td>0.060150</td>\n    </tr>\n    <tr>\n      <th>27453</th>\n      <td>127850470</td>\n      <td>Banished</td>\n      <td>30.0</td>\n      <td>0.075188</td>\n    </tr>\n    <tr>\n      <th>19186</th>\n      <td>81439192</td>\n      <td>Banished</td>\n      <td>33.0</td>\n      <td>0.082707</td>\n    </tr>\n    <tr>\n      <th>11055</th>\n      <td>49630184</td>\n      <td>Banished</td>\n      <td>39.0</td>\n      <td>0.097744</td>\n    </tr>\n    <tr>\n      <th>18315</th>\n      <td>77980915</td>\n      <td>Banished</td>\n      <td>39.0</td>\n      <td>0.097744</td>\n    </tr>\n    <tr>\n      <th>6258</th>\n      <td>32126281</td>\n      <td>Banished</td>\n      <td>42.0</td>\n      <td>0.105263</td>\n    </tr>\n    <tr>\n      <th>15596</th>\n      <td>65315657</td>\n      <td>Banished</td>\n      <td>44.0</td>\n      <td>0.110276</td>\n    </tr>\n    <tr>\n      <th>21845</th>\n      <td>94088853</td>\n      <td>Banished</td>\n      <td>45.0</td>\n      <td>0.112782</td>\n    </tr>\n    <tr>\n      <th>21432</th>\n      <td>92393218</td>\n      <td>Banished</td>\n      <td>48.0</td>\n      <td>0.120301</td>\n    </tr>\n    <tr>\n      <th>21173</th>\n      <td>90272527</td>\n      <td>Banished</td>\n      <td>49.0</td>\n      <td>0.122807</td>\n    </tr>\n    <tr>\n      <th>13908</th>\n      <td>59825286</td>\n      <td>Banished</td>\n      <td>62.0</td>\n      <td>0.155388</td>\n    </tr>\n    <tr>\n      <th>9036</th>\n      <td>43955374</td>\n      <td>Banished</td>\n      <td>64.0</td>\n      <td>0.160401</td>\n    </tr>\n    <tr>\n      <th>1732</th>\n      <td>10599862</td>\n      <td>Banished</td>\n      <td>67.0</td>\n      <td>0.167920</td>\n    </tr>\n    <tr>\n      <th>21547</th>\n      <td>92612763</td>\n      <td>Banished</td>\n      <td>78.0</td>\n      <td>0.195489</td>\n    </tr>\n    <tr>\n      <th>29143</th>\n      <td>143877335</td>\n      <td>Banished</td>\n      <td>94.0</td>\n      <td>0.235589</td>\n    </tr>\n    <tr>\n      <th>32878</th>\n      <td>180753437</td>\n      <td>Banished</td>\n      <td>399.0</td>\n      <td>1.000000</td>\n    </tr>\n  </tbody>\n</table>\n</div>"
     },
     "metadata": {},
     "execution_count": 6
    }
   ],
   "source": [
    "train[train['game_name'] == \"Banished\"].sort_values(by=\"amount\")"
   ]
  },
  {
   "cell_type": "code",
   "execution_count": null,
   "metadata": {},
   "outputs": [],
   "source": []
  }
 ]
}